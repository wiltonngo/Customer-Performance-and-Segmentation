{
 "cells": [
  {
   "cell_type": "markdown",
   "id": "63a8e4b0-4d52-4757-9a49-dc6375ffdf70",
   "metadata": {},
   "source": [
    "# Contents\n",
    "### 1. Import Libraries\n",
    "### 2. Security Implications\n",
    "### 3. Region Column\n",
    "### 4. Spending Trends\n",
    "### 5. Create an Activity Flag\n",
    "### 6. Customer Profile\n",
    "### 7. Profile by Department\n",
    "### 8. Export\n"
   ]
  },
  {
   "cell_type": "markdown",
   "id": "48201e00-7e70-4cb4-8208-f21684d141c5",
   "metadata": {},
   "source": [
    "# 1. Import Libraries"
   ]
  },
  {
   "cell_type": "code",
   "execution_count": 26,
   "id": "e4638756-9310-4d5d-8594-fd592b28318b",
   "metadata": {},
   "outputs": [],
   "source": [
    "# Import Libraries\n",
    "import pandas as pd\n",
    "import numpy as np\n",
    "import os\n",
    "import matplotlib.pyplot as plt\n",
    "import seaborn as sns\n",
    "import scipy"
   ]
  },
  {
   "cell_type": "code",
   "execution_count": 27,
   "id": "afd6b2da-29c3-471b-90c5-69f0c6442508",
   "metadata": {},
   "outputs": [],
   "source": [
    "# Create a Path\n",
    "path = r'/Users/wiltonngo/InstaCart Basket Analysis'"
   ]
  },
  {
   "cell_type": "code",
   "execution_count": 28,
   "id": "af6da897-7d25-422b-a459-ebfbdd7a3b38",
   "metadata": {},
   "outputs": [],
   "source": [
    "# Import the complete the Data Set\n",
    "df= pd.read_pickle(os.path.join(path, 'Data', 'Prepared Data', 'dataframe_combined.pkl'))"
   ]
  },
  {
   "cell_type": "code",
   "execution_count": 29,
   "id": "41c7c8ec-e10b-4b34-9cf2-a979f42b6b70",
   "metadata": {},
   "outputs": [],
   "source": [
    "# importing department dictionary data\n",
    "df_dict = pd.read_csv(os.path.join(path, 'Data', 'Prepared Data', 'df_dep_t_new.csv'), index_col = 0)"
   ]
  },
  {
   "cell_type": "markdown",
   "id": "bbf92af6-2c82-4e79-b9d7-01dd32ce517c",
   "metadata": {},
   "source": [
    "# 2. Security Implications"
   ]
  },
  {
   "cell_type": "code",
   "execution_count": 30,
   "id": "cc05b332-362d-43a1-a0cd-b9df8d1af082",
   "metadata": {},
   "outputs": [
    {
     "name": "stdout",
     "output_type": "stream",
     "text": [
      "<class 'pandas.core.frame.DataFrame'>\n",
      "Int64Index: 32404859 entries, 0 to 32404858\n",
      "Data columns (total 30 columns):\n",
      " #   Column                 Dtype   \n",
      "---  ------                 -----   \n",
      " 0   order_id               int64   \n",
      " 1   user_id                int64   \n",
      " 2   order_number           int64   \n",
      " 3   order_day_of_week      int64   \n",
      " 4   order_hour_of_day      int64   \n",
      " 5   days_since_last_order  float64 \n",
      " 6   product_id             int64   \n",
      " 7   add_to_cart_order      int64   \n",
      " 8   reordered              int64   \n",
      " 9   product_name           object  \n",
      " 10  aisle_id               int64   \n",
      " 11  department_id          int64   \n",
      " 12  prices                 float64 \n",
      " 13  _merge                 category\n",
      " 14  price_range_loc        object  \n",
      " 15  Busiest Day            object  \n",
      " 16  Busiest Period of Day  object  \n",
      " 17  max_order              int64   \n",
      " 18  loyatly_flags          object  \n",
      " 19  avg_price              float64 \n",
      " 20  spending_flag          object  \n",
      " 21  Meidan_Freq            float64 \n",
      " 22  order_freq_flag        object  \n",
      " 23  gender                 object  \n",
      " 24  state                  object  \n",
      " 25  age                    int64   \n",
      " 26  date_joined            object  \n",
      " 27  dependants_number      int64   \n",
      " 28  family_status          object  \n",
      " 29  income                 int64   \n",
      "dtypes: category(1), float64(4), int64(14), object(11)\n",
      "memory usage: 7.3+ GB\n"
     ]
    }
   ],
   "source": [
    "# Check the information about the dataset\n",
    "df.info()"
   ]
  },
  {
   "cell_type": "code",
   "execution_count": 31,
   "id": "20354a29-535a-4b59-904b-c702e75d7ef2",
   "metadata": {},
   "outputs": [],
   "source": [
    "df['prices'] = df['prices'].astype(int)"
   ]
  },
  {
   "cell_type": "code",
   "execution_count": 32,
   "id": "b5eb0956-2b8a-49cf-bcc2-f7fc39f6472f",
   "metadata": {
    "tags": []
   },
   "outputs": [
    {
     "data": {
      "text/html": [
       "<div>\n",
       "<style scoped>\n",
       "    .dataframe tbody tr th:only-of-type {\n",
       "        vertical-align: middle;\n",
       "    }\n",
       "\n",
       "    .dataframe tbody tr th {\n",
       "        vertical-align: top;\n",
       "    }\n",
       "\n",
       "    .dataframe thead th {\n",
       "        text-align: right;\n",
       "    }\n",
       "</style>\n",
       "<table border=\"1\" class=\"dataframe\">\n",
       "  <thead>\n",
       "    <tr style=\"text-align: right;\">\n",
       "      <th></th>\n",
       "      <th>order_id</th>\n",
       "      <th>user_id</th>\n",
       "      <th>order_number</th>\n",
       "      <th>order_day_of_week</th>\n",
       "      <th>order_hour_of_day</th>\n",
       "      <th>days_since_last_order</th>\n",
       "      <th>product_id</th>\n",
       "      <th>add_to_cart_order</th>\n",
       "      <th>reordered</th>\n",
       "      <th>product_name</th>\n",
       "      <th>...</th>\n",
       "      <th>spending_flag</th>\n",
       "      <th>Meidan_Freq</th>\n",
       "      <th>order_freq_flag</th>\n",
       "      <th>gender</th>\n",
       "      <th>state</th>\n",
       "      <th>age</th>\n",
       "      <th>date_joined</th>\n",
       "      <th>dependants_number</th>\n",
       "      <th>family_status</th>\n",
       "      <th>income</th>\n",
       "    </tr>\n",
       "  </thead>\n",
       "  <tbody>\n",
       "    <tr>\n",
       "      <th>5484</th>\n",
       "      <td>1777553</td>\n",
       "      <td>778</td>\n",
       "      <td>5</td>\n",
       "      <td>2</td>\n",
       "      <td>0</td>\n",
       "      <td>2.0</td>\n",
       "      <td>196</td>\n",
       "      <td>5</td>\n",
       "      <td>0</td>\n",
       "      <td>Soda</td>\n",
       "      <td>...</td>\n",
       "      <td>Low spender</td>\n",
       "      <td>4.0</td>\n",
       "      <td>Frequent Customer</td>\n",
       "      <td>Female</td>\n",
       "      <td>Idaho</td>\n",
       "      <td>78</td>\n",
       "      <td>11/19/2018</td>\n",
       "      <td>3</td>\n",
       "      <td>married</td>\n",
       "      <td>161489</td>\n",
       "    </tr>\n",
       "    <tr>\n",
       "      <th>5491</th>\n",
       "      <td>1777553</td>\n",
       "      <td>778</td>\n",
       "      <td>5</td>\n",
       "      <td>2</td>\n",
       "      <td>0</td>\n",
       "      <td>2.0</td>\n",
       "      <td>16797</td>\n",
       "      <td>10</td>\n",
       "      <td>1</td>\n",
       "      <td>Strawberries</td>\n",
       "      <td>...</td>\n",
       "      <td>Low spender</td>\n",
       "      <td>4.0</td>\n",
       "      <td>Frequent Customer</td>\n",
       "      <td>Female</td>\n",
       "      <td>Idaho</td>\n",
       "      <td>78</td>\n",
       "      <td>11/19/2018</td>\n",
       "      <td>3</td>\n",
       "      <td>married</td>\n",
       "      <td>161489</td>\n",
       "    </tr>\n",
       "    <tr>\n",
       "      <th>5502</th>\n",
       "      <td>1504208</td>\n",
       "      <td>778</td>\n",
       "      <td>39</td>\n",
       "      <td>2</td>\n",
       "      <td>0</td>\n",
       "      <td>6.0</td>\n",
       "      <td>16797</td>\n",
       "      <td>16</td>\n",
       "      <td>1</td>\n",
       "      <td>Strawberries</td>\n",
       "      <td>...</td>\n",
       "      <td>Low spender</td>\n",
       "      <td>4.0</td>\n",
       "      <td>Frequent Customer</td>\n",
       "      <td>Female</td>\n",
       "      <td>Idaho</td>\n",
       "      <td>78</td>\n",
       "      <td>11/19/2018</td>\n",
       "      <td>3</td>\n",
       "      <td>married</td>\n",
       "      <td>161489</td>\n",
       "    </tr>\n",
       "    <tr>\n",
       "      <th>5513</th>\n",
       "      <td>1504208</td>\n",
       "      <td>778</td>\n",
       "      <td>39</td>\n",
       "      <td>2</td>\n",
       "      <td>0</td>\n",
       "      <td>6.0</td>\n",
       "      <td>24852</td>\n",
       "      <td>2</td>\n",
       "      <td>1</td>\n",
       "      <td>Banana</td>\n",
       "      <td>...</td>\n",
       "      <td>Low spender</td>\n",
       "      <td>4.0</td>\n",
       "      <td>Frequent Customer</td>\n",
       "      <td>Female</td>\n",
       "      <td>Idaho</td>\n",
       "      <td>78</td>\n",
       "      <td>11/19/2018</td>\n",
       "      <td>3</td>\n",
       "      <td>married</td>\n",
       "      <td>161489</td>\n",
       "    </tr>\n",
       "    <tr>\n",
       "      <th>5527</th>\n",
       "      <td>1777553</td>\n",
       "      <td>778</td>\n",
       "      <td>5</td>\n",
       "      <td>2</td>\n",
       "      <td>0</td>\n",
       "      <td>2.0</td>\n",
       "      <td>26882</td>\n",
       "      <td>6</td>\n",
       "      <td>0</td>\n",
       "      <td>Russet Potatoes</td>\n",
       "      <td>...</td>\n",
       "      <td>Low spender</td>\n",
       "      <td>4.0</td>\n",
       "      <td>Frequent Customer</td>\n",
       "      <td>Female</td>\n",
       "      <td>Idaho</td>\n",
       "      <td>78</td>\n",
       "      <td>11/19/2018</td>\n",
       "      <td>3</td>\n",
       "      <td>married</td>\n",
       "      <td>161489</td>\n",
       "    </tr>\n",
       "    <tr>\n",
       "      <th>...</th>\n",
       "      <td>...</td>\n",
       "      <td>...</td>\n",
       "      <td>...</td>\n",
       "      <td>...</td>\n",
       "      <td>...</td>\n",
       "      <td>...</td>\n",
       "      <td>...</td>\n",
       "      <td>...</td>\n",
       "      <td>...</td>\n",
       "      <td>...</td>\n",
       "      <td>...</td>\n",
       "      <td>...</td>\n",
       "      <td>...</td>\n",
       "      <td>...</td>\n",
       "      <td>...</td>\n",
       "      <td>...</td>\n",
       "      <td>...</td>\n",
       "      <td>...</td>\n",
       "      <td>...</td>\n",
       "      <td>...</td>\n",
       "      <td>...</td>\n",
       "    </tr>\n",
       "    <tr>\n",
       "      <th>32404702</th>\n",
       "      <td>3063168</td>\n",
       "      <td>106304</td>\n",
       "      <td>3</td>\n",
       "      <td>0</td>\n",
       "      <td>0</td>\n",
       "      <td>30.0</td>\n",
       "      <td>15831</td>\n",
       "      <td>2</td>\n",
       "      <td>1</td>\n",
       "      <td>Kosher Chicken Breasts Boneless And Skinless</td>\n",
       "      <td>...</td>\n",
       "      <td>High spender</td>\n",
       "      <td>16.0</td>\n",
       "      <td>Regular Customer</td>\n",
       "      <td>Female</td>\n",
       "      <td>Maine</td>\n",
       "      <td>63</td>\n",
       "      <td>5/31/2017</td>\n",
       "      <td>0</td>\n",
       "      <td>divorced/widowed</td>\n",
       "      <td>96373</td>\n",
       "    </tr>\n",
       "    <tr>\n",
       "      <th>32404703</th>\n",
       "      <td>2528434</td>\n",
       "      <td>106304</td>\n",
       "      <td>4</td>\n",
       "      <td>0</td>\n",
       "      <td>0</td>\n",
       "      <td>0.0</td>\n",
       "      <td>15831</td>\n",
       "      <td>1</td>\n",
       "      <td>1</td>\n",
       "      <td>Kosher Chicken Breasts Boneless And Skinless</td>\n",
       "      <td>...</td>\n",
       "      <td>High spender</td>\n",
       "      <td>16.0</td>\n",
       "      <td>Regular Customer</td>\n",
       "      <td>Female</td>\n",
       "      <td>Maine</td>\n",
       "      <td>63</td>\n",
       "      <td>5/31/2017</td>\n",
       "      <td>0</td>\n",
       "      <td>divorced/widowed</td>\n",
       "      <td>96373</td>\n",
       "    </tr>\n",
       "    <tr>\n",
       "      <th>32404831</th>\n",
       "      <td>218446</td>\n",
       "      <td>106143</td>\n",
       "      <td>3</td>\n",
       "      <td>4</td>\n",
       "      <td>0</td>\n",
       "      <td>8.0</td>\n",
       "      <td>19675</td>\n",
       "      <td>1</td>\n",
       "      <td>1</td>\n",
       "      <td>Organic Raspberry Black Tea</td>\n",
       "      <td>...</td>\n",
       "      <td>High spender</td>\n",
       "      <td>7.0</td>\n",
       "      <td>Frequent Customer</td>\n",
       "      <td>Male</td>\n",
       "      <td>Hawaii</td>\n",
       "      <td>25</td>\n",
       "      <td>5/26/2017</td>\n",
       "      <td>0</td>\n",
       "      <td>single</td>\n",
       "      <td>53755</td>\n",
       "    </tr>\n",
       "    <tr>\n",
       "      <th>32404835</th>\n",
       "      <td>2409631</td>\n",
       "      <td>106143</td>\n",
       "      <td>7</td>\n",
       "      <td>1</td>\n",
       "      <td>0</td>\n",
       "      <td>14.0</td>\n",
       "      <td>19675</td>\n",
       "      <td>1</td>\n",
       "      <td>1</td>\n",
       "      <td>Organic Raspberry Black Tea</td>\n",
       "      <td>...</td>\n",
       "      <td>High spender</td>\n",
       "      <td>7.0</td>\n",
       "      <td>Frequent Customer</td>\n",
       "      <td>Male</td>\n",
       "      <td>Hawaii</td>\n",
       "      <td>25</td>\n",
       "      <td>5/26/2017</td>\n",
       "      <td>0</td>\n",
       "      <td>single</td>\n",
       "      <td>53755</td>\n",
       "    </tr>\n",
       "    <tr>\n",
       "      <th>32404839</th>\n",
       "      <td>634152</td>\n",
       "      <td>106143</td>\n",
       "      <td>11</td>\n",
       "      <td>4</td>\n",
       "      <td>0</td>\n",
       "      <td>16.0</td>\n",
       "      <td>19675</td>\n",
       "      <td>1</td>\n",
       "      <td>1</td>\n",
       "      <td>Organic Raspberry Black Tea</td>\n",
       "      <td>...</td>\n",
       "      <td>High spender</td>\n",
       "      <td>7.0</td>\n",
       "      <td>Frequent Customer</td>\n",
       "      <td>Male</td>\n",
       "      <td>Hawaii</td>\n",
       "      <td>25</td>\n",
       "      <td>5/26/2017</td>\n",
       "      <td>0</td>\n",
       "      <td>single</td>\n",
       "      <td>53755</td>\n",
       "    </tr>\n",
       "  </tbody>\n",
       "</table>\n",
       "<p>218759 rows × 30 columns</p>\n",
       "</div>"
      ],
      "text/plain": [
       "          order_id  user_id  order_number  order_day_of_week  \\\n",
       "5484       1777553      778             5                  2   \n",
       "5491       1777553      778             5                  2   \n",
       "5502       1504208      778            39                  2   \n",
       "5513       1504208      778            39                  2   \n",
       "5527       1777553      778             5                  2   \n",
       "...            ...      ...           ...                ...   \n",
       "32404702   3063168   106304             3                  0   \n",
       "32404703   2528434   106304             4                  0   \n",
       "32404831    218446   106143             3                  4   \n",
       "32404835   2409631   106143             7                  1   \n",
       "32404839    634152   106143            11                  4   \n",
       "\n",
       "          order_hour_of_day  days_since_last_order  product_id  \\\n",
       "5484                      0                    2.0         196   \n",
       "5491                      0                    2.0       16797   \n",
       "5502                      0                    6.0       16797   \n",
       "5513                      0                    6.0       24852   \n",
       "5527                      0                    2.0       26882   \n",
       "...                     ...                    ...         ...   \n",
       "32404702                  0                   30.0       15831   \n",
       "32404703                  0                    0.0       15831   \n",
       "32404831                  0                    8.0       19675   \n",
       "32404835                  0                   14.0       19675   \n",
       "32404839                  0                   16.0       19675   \n",
       "\n",
       "          add_to_cart_order  reordered  \\\n",
       "5484                      5          0   \n",
       "5491                     10          1   \n",
       "5502                     16          1   \n",
       "5513                      2          1   \n",
       "5527                      6          0   \n",
       "...                     ...        ...   \n",
       "32404702                  2          1   \n",
       "32404703                  1          1   \n",
       "32404831                  1          1   \n",
       "32404835                  1          1   \n",
       "32404839                  1          1   \n",
       "\n",
       "                                          product_name  ...  spending_flag  \\\n",
       "5484                                              Soda  ...    Low spender   \n",
       "5491                                      Strawberries  ...    Low spender   \n",
       "5502                                      Strawberries  ...    Low spender   \n",
       "5513                                            Banana  ...    Low spender   \n",
       "5527                                   Russet Potatoes  ...    Low spender   \n",
       "...                                                ...  ...            ...   \n",
       "32404702  Kosher Chicken Breasts Boneless And Skinless  ...   High spender   \n",
       "32404703  Kosher Chicken Breasts Boneless And Skinless  ...   High spender   \n",
       "32404831                   Organic Raspberry Black Tea  ...   High spender   \n",
       "32404835                   Organic Raspberry Black Tea  ...   High spender   \n",
       "32404839                   Organic Raspberry Black Tea  ...   High spender   \n",
       "\n",
       "          Meidan_Freq    order_freq_flag  gender   state age date_joined  \\\n",
       "5484              4.0  Frequent Customer  Female   Idaho  78  11/19/2018   \n",
       "5491              4.0  Frequent Customer  Female   Idaho  78  11/19/2018   \n",
       "5502              4.0  Frequent Customer  Female   Idaho  78  11/19/2018   \n",
       "5513              4.0  Frequent Customer  Female   Idaho  78  11/19/2018   \n",
       "5527              4.0  Frequent Customer  Female   Idaho  78  11/19/2018   \n",
       "...               ...                ...     ...     ...  ..         ...   \n",
       "32404702         16.0   Regular Customer  Female   Maine  63   5/31/2017   \n",
       "32404703         16.0   Regular Customer  Female   Maine  63   5/31/2017   \n",
       "32404831          7.0  Frequent Customer    Male  Hawaii  25   5/26/2017   \n",
       "32404835          7.0  Frequent Customer    Male  Hawaii  25   5/26/2017   \n",
       "32404839          7.0  Frequent Customer    Male  Hawaii  25   5/26/2017   \n",
       "\n",
       "          dependants_number     family_status  income  \n",
       "5484                      3           married  161489  \n",
       "5491                      3           married  161489  \n",
       "5502                      3           married  161489  \n",
       "5513                      3           married  161489  \n",
       "5527                      3           married  161489  \n",
       "...                     ...               ...     ...  \n",
       "32404702                  0  divorced/widowed   96373  \n",
       "32404703                  0  divorced/widowed   96373  \n",
       "32404831                  0            single   53755  \n",
       "32404835                  0            single   53755  \n",
       "32404839                  0            single   53755  \n",
       "\n",
       "[218759 rows x 30 columns]"
      ]
     },
     "execution_count": 32,
     "metadata": {},
     "output_type": "execute_result"
    }
   ],
   "source": [
    "df[((df['order_hour_of_day']) == 3 & (df['prices']> 100))]"
   ]
  },
  {
   "cell_type": "markdown",
   "id": "45f7e221-bfe5-4f03-ab27-0781e107fd80",
   "metadata": {},
   "source": [
    "### The dataset contains age, name and State, which we will have consider the Pll. We removed the name to protect their privacy. The Age and state are not enough to identify the individual therefore we can continue with the project"
   ]
  },
  {
   "cell_type": "markdown",
   "id": "317e266b-18b9-411e-ac1a-b5fe820d251b",
   "metadata": {},
   "source": [
    "# 3. Region Column"
   ]
  },
  {
   "cell_type": "markdown",
   "id": "17b5f03a-eb6a-4914-8116-ea0d39b60fe2",
   "metadata": {},
   "source": [
    "### You need to create a Region column based on the State column from your customers data set"
   ]
  },
  {
   "cell_type": "code",
   "execution_count": 33,
   "id": "707ce2eb-9024-4874-b8ac-535cc71bc57e",
   "metadata": {},
   "outputs": [],
   "source": [
    "# Create your first Region called NorthEast\n",
    "df.loc[df['state'].isin(['Maine','New Hampshire','Vermont','Massachusetts','Rhode Island','Connecticut','New York',\n",
    "                        'Pennsylvania','New Jersey']),'Region'] = 'NorthEast'\n",
    "#create your Second Region called MidWest\n",
    "df.loc[df['state'].isin(['Wisconsin','Michigan','Illinois','Indiana','Ohio','North Dakota','South Dakota','Nebraska',\n",
    "                        'Kansas','Minnesota','Iowa','Missouri']),'Region'] = 'Midwest'\n",
    "# Create a Third Region called South\n",
    "df.loc[df['state'].isin(['Delaware','Maryland','District of Columbia','Virginia','West Virginia','North Carolina','South Carolina',\n",
    "                        'Georgia','Florida','Kentucky','Tennessee','Mississippi','Alabama','Oklahoma','Texas','Arkansas',\n",
    "                        'Louisiana']),'Region'] = 'South'\n",
    "# Create a last Region called West\n",
    "df.loc[df['state'].isin(['Idaho','Montana','Wyoming','Nevada','Utah','Colorado','Arizona','New Mexico','Alaska','Washington',\n",
    "                        'Oregon','California','Hawaii']),'Region'] = 'West'"
   ]
  },
  {
   "cell_type": "code",
   "execution_count": 34,
   "id": "68ea3226-e595-42f9-867c-5a5c02834caa",
   "metadata": {},
   "outputs": [
    {
     "data": {
      "text/plain": [
       "South        10791885\n",
       "West          8292913\n",
       "Midwest       7597325\n",
       "NorthEast     5722736\n",
       "Name: Region, dtype: int64"
      ]
     },
     "execution_count": 34,
     "metadata": {},
     "output_type": "execute_result"
    }
   ],
   "source": [
    "# Checking Region Col\n",
    "df['Region'].value_counts(dropna = False)"
   ]
  },
  {
   "cell_type": "code",
   "execution_count": 35,
   "id": "d7be6cbe-6c28-4672-8e47-d0cea6591233",
   "metadata": {},
   "outputs": [
    {
     "data": {
      "image/png": "[encoded data removed]",
      "text/plain": [
       "<Figure size 432x288 with 4 Axes>"
      ]
     },
     "metadata": {
      "needs_background": "light"
     },
     "output_type": "display_data"
    }
   ],
   "source": [
    "Region_order_of_day = df.hist(column = 'order_hour_of_day', by ='Region')"
   ]
  },
  {
   "cell_type": "code",
   "execution_count": 36,
   "id": "3fd0c9a6-b847-41ae-8baa-5cbf9e6e6886",
   "metadata": {},
   "outputs": [
    {
     "ename": "KeyError",
     "evalue": "''",
     "output_type": "error",
     "traceback": [
      "\u001b[0;31m---------------------------------------------------------------------------\u001b[0m",
      "\u001b[0;31mKeyError\u001b[0m                                  Traceback (most recent call last)",
      "Input \u001b[0;32mIn [36]\u001b[0m, in \u001b[0;36m<cell line: 1>\u001b[0;34m()\u001b[0m\n\u001b[0;32m----> 1\u001b[0m \u001b[43mdf\u001b[49m\u001b[38;5;241;43m.\u001b[39;49m\u001b[43mhist\u001b[49m\u001b[43m(\u001b[49m\u001b[43mcolumn\u001b[49m\u001b[43m \u001b[49m\u001b[38;5;241;43m=\u001b[39;49m\u001b[43m \u001b[49m\u001b[38;5;124;43m'\u001b[39;49m\u001b[38;5;124;43mprices\u001b[39;49m\u001b[38;5;124;43m'\u001b[39;49m\u001b[43m,\u001b[49m\u001b[43m \u001b[49m\u001b[43mby\u001b[49m\u001b[43m \u001b[49m\u001b[38;5;241;43m=\u001b[39;49m\u001b[38;5;124;43m'\u001b[39;49m\u001b[38;5;124;43m'\u001b[39;49m\u001b[43m)\u001b[49m\n",
      "File \u001b[0;32m~/opt/anaconda3/lib/python3.9/site-packages/pandas/plotting/_core.py:226\u001b[0m, in \u001b[0;36mhist_frame\u001b[0;34m(data, column, by, grid, xlabelsize, xrot, ylabelsize, yrot, ax, sharex, sharey, figsize, layout, bins, backend, legend, **kwargs)\u001b[0m\n\u001b[1;32m    135\u001b[0m \u001b[38;5;124;03m\"\"\"\u001b[39;00m\n\u001b[1;32m    136\u001b[0m \u001b[38;5;124;03mMake a histogram of the DataFrame's columns.\u001b[39;00m\n\u001b[1;32m    137\u001b[0m \n\u001b[0;32m   (...)\u001b[0m\n\u001b[1;32m    223\u001b[0m \u001b[38;5;124;03m    >>> hist = df.hist(bins=3)\u001b[39;00m\n\u001b[1;32m    224\u001b[0m \u001b[38;5;124;03m\"\"\"\u001b[39;00m\n\u001b[1;32m    225\u001b[0m plot_backend \u001b[38;5;241m=\u001b[39m _get_plot_backend(backend)\n\u001b[0;32m--> 226\u001b[0m \u001b[38;5;28;01mreturn\u001b[39;00m \u001b[43mplot_backend\u001b[49m\u001b[38;5;241;43m.\u001b[39;49m\u001b[43mhist_frame\u001b[49m\u001b[43m(\u001b[49m\n\u001b[1;32m    227\u001b[0m \u001b[43m    \u001b[49m\u001b[43mdata\u001b[49m\u001b[43m,\u001b[49m\n\u001b[1;32m    228\u001b[0m \u001b[43m    \u001b[49m\u001b[43mcolumn\u001b[49m\u001b[38;5;241;43m=\u001b[39;49m\u001b[43mcolumn\u001b[49m\u001b[43m,\u001b[49m\n\u001b[1;32m    229\u001b[0m \u001b[43m    \u001b[49m\u001b[43mby\u001b[49m\u001b[38;5;241;43m=\u001b[39;49m\u001b[43mby\u001b[49m\u001b[43m,\u001b[49m\n\u001b[1;32m    230\u001b[0m \u001b[43m    \u001b[49m\u001b[43mgrid\u001b[49m\u001b[38;5;241;43m=\u001b[39;49m\u001b[43mgrid\u001b[49m\u001b[43m,\u001b[49m\n\u001b[1;32m    231\u001b[0m \u001b[43m    \u001b[49m\u001b[43mxlabelsize\u001b[49m\u001b[38;5;241;43m=\u001b[39;49m\u001b[43mxlabelsize\u001b[49m\u001b[43m,\u001b[49m\n\u001b[1;32m    232\u001b[0m \u001b[43m    \u001b[49m\u001b[43mxrot\u001b[49m\u001b[38;5;241;43m=\u001b[39;49m\u001b[43mxrot\u001b[49m\u001b[43m,\u001b[49m\n\u001b[1;32m    233\u001b[0m \u001b[43m    \u001b[49m\u001b[43mylabelsize\u001b[49m\u001b[38;5;241;43m=\u001b[39;49m\u001b[43mylabelsize\u001b[49m\u001b[43m,\u001b[49m\n\u001b[1;32m    234\u001b[0m \u001b[43m    \u001b[49m\u001b[43myrot\u001b[49m\u001b[38;5;241;43m=\u001b[39;49m\u001b[43myrot\u001b[49m\u001b[43m,\u001b[49m\n\u001b[1;32m    235\u001b[0m \u001b[43m    \u001b[49m\u001b[43max\u001b[49m\u001b[38;5;241;43m=\u001b[39;49m\u001b[43max\u001b[49m\u001b[43m,\u001b[49m\n\u001b[1;32m    236\u001b[0m \u001b[43m    \u001b[49m\u001b[43msharex\u001b[49m\u001b[38;5;241;43m=\u001b[39;49m\u001b[43msharex\u001b[49m\u001b[43m,\u001b[49m\n\u001b[1;32m    237\u001b[0m \u001b[43m    \u001b[49m\u001b[43msharey\u001b[49m\u001b[38;5;241;43m=\u001b[39;49m\u001b[43msharey\u001b[49m\u001b[43m,\u001b[49m\n\u001b[1;32m    238\u001b[0m \u001b[43m    \u001b[49m\u001b[43mfigsize\u001b[49m\u001b[38;5;241;43m=\u001b[39;49m\u001b[43mfigsize\u001b[49m\u001b[43m,\u001b[49m\n\u001b[1;32m    239\u001b[0m \u001b[43m    \u001b[49m\u001b[43mlayout\u001b[49m\u001b[38;5;241;43m=\u001b[39;49m\u001b[43mlayout\u001b[49m\u001b[43m,\u001b[49m\n\u001b[1;32m    240\u001b[0m \u001b[43m    \u001b[49m\u001b[43mlegend\u001b[49m\u001b[38;5;241;43m=\u001b[39;49m\u001b[43mlegend\u001b[49m\u001b[43m,\u001b[49m\n\u001b[1;32m    241\u001b[0m \u001b[43m    \u001b[49m\u001b[43mbins\u001b[49m\u001b[38;5;241;43m=\u001b[39;49m\u001b[43mbins\u001b[49m\u001b[43m,\u001b[49m\n\u001b[1;32m    242\u001b[0m \u001b[43m    \u001b[49m\u001b[38;5;241;43m*\u001b[39;49m\u001b[38;5;241;43m*\u001b[39;49m\u001b[43mkwargs\u001b[49m\u001b[43m,\u001b[49m\n\u001b[1;32m    243\u001b[0m \u001b[43m\u001b[49m\u001b[43m)\u001b[49m\n",
      "File \u001b[0;32m~/opt/anaconda3/lib/python3.9/site-packages/pandas/plotting/_matplotlib/hist.py:449\u001b[0m, in \u001b[0;36mhist_frame\u001b[0;34m(data, column, by, grid, xlabelsize, xrot, ylabelsize, yrot, ax, sharex, sharey, figsize, layout, bins, legend, **kwds)\u001b[0m\n\u001b[1;32m    447\u001b[0m     \u001b[38;5;28;01mraise\u001b[39;00m \u001b[38;5;167;01mValueError\u001b[39;00m(\u001b[38;5;124m\"\u001b[39m\u001b[38;5;124mCannot use both legend and label\u001b[39m\u001b[38;5;124m\"\u001b[39m)\n\u001b[1;32m    448\u001b[0m \u001b[38;5;28;01mif\u001b[39;00m by \u001b[38;5;129;01mis\u001b[39;00m \u001b[38;5;129;01mnot\u001b[39;00m \u001b[38;5;28;01mNone\u001b[39;00m:\n\u001b[0;32m--> 449\u001b[0m     axes \u001b[38;5;241m=\u001b[39m \u001b[43m_grouped_hist\u001b[49m\u001b[43m(\u001b[49m\n\u001b[1;32m    450\u001b[0m \u001b[43m        \u001b[49m\u001b[43mdata\u001b[49m\u001b[43m,\u001b[49m\n\u001b[1;32m    451\u001b[0m \u001b[43m        \u001b[49m\u001b[43mcolumn\u001b[49m\u001b[38;5;241;43m=\u001b[39;49m\u001b[43mcolumn\u001b[49m\u001b[43m,\u001b[49m\n\u001b[1;32m    452\u001b[0m \u001b[43m        \u001b[49m\u001b[43mby\u001b[49m\u001b[38;5;241;43m=\u001b[39;49m\u001b[43mby\u001b[49m\u001b[43m,\u001b[49m\n\u001b[1;32m    453\u001b[0m \u001b[43m        \u001b[49m\u001b[43max\u001b[49m\u001b[38;5;241;43m=\u001b[39;49m\u001b[43max\u001b[49m\u001b[43m,\u001b[49m\n\u001b[1;32m    454\u001b[0m \u001b[43m        \u001b[49m\u001b[43mgrid\u001b[49m\u001b[38;5;241;43m=\u001b[39;49m\u001b[43mgrid\u001b[49m\u001b[43m,\u001b[49m\n\u001b[1;32m    455\u001b[0m \u001b[43m        \u001b[49m\u001b[43mfigsize\u001b[49m\u001b[38;5;241;43m=\u001b[39;49m\u001b[43mfigsize\u001b[49m\u001b[43m,\u001b[49m\n\u001b[1;32m    456\u001b[0m \u001b[43m        \u001b[49m\u001b[43msharex\u001b[49m\u001b[38;5;241;43m=\u001b[39;49m\u001b[43msharex\u001b[49m\u001b[43m,\u001b[49m\n\u001b[1;32m    457\u001b[0m \u001b[43m        \u001b[49m\u001b[43msharey\u001b[49m\u001b[38;5;241;43m=\u001b[39;49m\u001b[43msharey\u001b[49m\u001b[43m,\u001b[49m\n\u001b[1;32m    458\u001b[0m \u001b[43m        \u001b[49m\u001b[43mlayout\u001b[49m\u001b[38;5;241;43m=\u001b[39;49m\u001b[43mlayout\u001b[49m\u001b[43m,\u001b[49m\n\u001b[1;32m    459\u001b[0m \u001b[43m        \u001b[49m\u001b[43mbins\u001b[49m\u001b[38;5;241;43m=\u001b[39;49m\u001b[43mbins\u001b[49m\u001b[43m,\u001b[49m\n\u001b[1;32m    460\u001b[0m \u001b[43m        \u001b[49m\u001b[43mxlabelsize\u001b[49m\u001b[38;5;241;43m=\u001b[39;49m\u001b[43mxlabelsize\u001b[49m\u001b[43m,\u001b[49m\n\u001b[1;32m    461\u001b[0m \u001b[43m        \u001b[49m\u001b[43mxrot\u001b[49m\u001b[38;5;241;43m=\u001b[39;49m\u001b[43mxrot\u001b[49m\u001b[43m,\u001b[49m\n\u001b[1;32m    462\u001b[0m \u001b[43m        \u001b[49m\u001b[43mylabelsize\u001b[49m\u001b[38;5;241;43m=\u001b[39;49m\u001b[43mylabelsize\u001b[49m\u001b[43m,\u001b[49m\n\u001b[1;32m    463\u001b[0m \u001b[43m        \u001b[49m\u001b[43myrot\u001b[49m\u001b[38;5;241;43m=\u001b[39;49m\u001b[43myrot\u001b[49m\u001b[43m,\u001b[49m\n\u001b[1;32m    464\u001b[0m \u001b[43m        \u001b[49m\u001b[43mlegend\u001b[49m\u001b[38;5;241;43m=\u001b[39;49m\u001b[43mlegend\u001b[49m\u001b[43m,\u001b[49m\n\u001b[1;32m    465\u001b[0m \u001b[43m        \u001b[49m\u001b[38;5;241;43m*\u001b[39;49m\u001b[38;5;241;43m*\u001b[39;49m\u001b[43mkwds\u001b[49m\u001b[43m,\u001b[49m\n\u001b[1;32m    466\u001b[0m \u001b[43m    \u001b[49m\u001b[43m)\u001b[49m\n\u001b[1;32m    467\u001b[0m     \u001b[38;5;28;01mreturn\u001b[39;00m axes\n\u001b[1;32m    469\u001b[0m \u001b[38;5;28;01mif\u001b[39;00m column \u001b[38;5;129;01mis\u001b[39;00m \u001b[38;5;129;01mnot\u001b[39;00m \u001b[38;5;28;01mNone\u001b[39;00m:\n",
      "File \u001b[0;32m~/opt/anaconda3/lib/python3.9/site-packages/pandas/plotting/_matplotlib/hist.py:333\u001b[0m, in \u001b[0;36m_grouped_hist\u001b[0;34m(data, column, by, ax, bins, figsize, layout, sharex, sharey, rot, grid, xlabelsize, xrot, ylabelsize, yrot, legend, **kwargs)\u001b[0m\n\u001b[1;32m    330\u001b[0m \u001b[38;5;28;01mif\u001b[39;00m xrot \u001b[38;5;129;01mis\u001b[39;00m \u001b[38;5;28;01mNone\u001b[39;00m:\n\u001b[1;32m    331\u001b[0m     xrot \u001b[38;5;241m=\u001b[39m rot\n\u001b[0;32m--> 333\u001b[0m fig, axes \u001b[38;5;241m=\u001b[39m \u001b[43m_grouped_plot\u001b[49m\u001b[43m(\u001b[49m\n\u001b[1;32m    334\u001b[0m \u001b[43m    \u001b[49m\u001b[43mplot_group\u001b[49m\u001b[43m,\u001b[49m\n\u001b[1;32m    335\u001b[0m \u001b[43m    \u001b[49m\u001b[43mdata\u001b[49m\u001b[43m,\u001b[49m\n\u001b[1;32m    336\u001b[0m \u001b[43m    \u001b[49m\u001b[43mcolumn\u001b[49m\u001b[38;5;241;43m=\u001b[39;49m\u001b[43mcolumn\u001b[49m\u001b[43m,\u001b[49m\n\u001b[1;32m    337\u001b[0m \u001b[43m    \u001b[49m\u001b[43mby\u001b[49m\u001b[38;5;241;43m=\u001b[39;49m\u001b[43mby\u001b[49m\u001b[43m,\u001b[49m\n\u001b[1;32m    338\u001b[0m \u001b[43m    \u001b[49m\u001b[43msharex\u001b[49m\u001b[38;5;241;43m=\u001b[39;49m\u001b[43msharex\u001b[49m\u001b[43m,\u001b[49m\n\u001b[1;32m    339\u001b[0m \u001b[43m    \u001b[49m\u001b[43msharey\u001b[49m\u001b[38;5;241;43m=\u001b[39;49m\u001b[43msharey\u001b[49m\u001b[43m,\u001b[49m\n\u001b[1;32m    340\u001b[0m \u001b[43m    \u001b[49m\u001b[43max\u001b[49m\u001b[38;5;241;43m=\u001b[39;49m\u001b[43max\u001b[49m\u001b[43m,\u001b[49m\n\u001b[1;32m    341\u001b[0m \u001b[43m    \u001b[49m\u001b[43mfigsize\u001b[49m\u001b[38;5;241;43m=\u001b[39;49m\u001b[43mfigsize\u001b[49m\u001b[43m,\u001b[49m\n\u001b[1;32m    342\u001b[0m \u001b[43m    \u001b[49m\u001b[43mlayout\u001b[49m\u001b[38;5;241;43m=\u001b[39;49m\u001b[43mlayout\u001b[49m\u001b[43m,\u001b[49m\n\u001b[1;32m    343\u001b[0m \u001b[43m    \u001b[49m\u001b[43mrot\u001b[49m\u001b[38;5;241;43m=\u001b[39;49m\u001b[43mrot\u001b[49m\u001b[43m,\u001b[49m\n\u001b[1;32m    344\u001b[0m \u001b[43m\u001b[49m\u001b[43m)\u001b[49m\n\u001b[1;32m    346\u001b[0m set_ticks_props(\n\u001b[1;32m    347\u001b[0m     axes, xlabelsize\u001b[38;5;241m=\u001b[39mxlabelsize, xrot\u001b[38;5;241m=\u001b[39mxrot, ylabelsize\u001b[38;5;241m=\u001b[39mylabelsize, yrot\u001b[38;5;241m=\u001b[39myrot\n\u001b[1;32m    348\u001b[0m )\n\u001b[1;32m    350\u001b[0m maybe_adjust_figure(\n\u001b[1;32m    351\u001b[0m     fig, bottom\u001b[38;5;241m=\u001b[39m\u001b[38;5;241m0.15\u001b[39m, top\u001b[38;5;241m=\u001b[39m\u001b[38;5;241m0.9\u001b[39m, left\u001b[38;5;241m=\u001b[39m\u001b[38;5;241m0.1\u001b[39m, right\u001b[38;5;241m=\u001b[39m\u001b[38;5;241m0.9\u001b[39m, hspace\u001b[38;5;241m=\u001b[39m\u001b[38;5;241m0.5\u001b[39m, wspace\u001b[38;5;241m=\u001b[39m\u001b[38;5;241m0.3\u001b[39m\n\u001b[1;32m    352\u001b[0m )\n",
      "File \u001b[0;32m~/opt/anaconda3/lib/python3.9/site-packages/pandas/plotting/_matplotlib/hist.py:253\u001b[0m, in \u001b[0;36m_grouped_plot\u001b[0;34m(plotf, data, column, by, numeric_only, figsize, sharex, sharey, layout, rot, ax, **kwargs)\u001b[0m\n\u001b[1;32m    246\u001b[0m \u001b[38;5;28;01mif\u001b[39;00m figsize \u001b[38;5;241m==\u001b[39m \u001b[38;5;124m\"\u001b[39m\u001b[38;5;124mdefault\u001b[39m\u001b[38;5;124m\"\u001b[39m:\n\u001b[1;32m    247\u001b[0m     \u001b[38;5;66;03m# allowed to specify mpl default with 'default'\u001b[39;00m\n\u001b[1;32m    248\u001b[0m     \u001b[38;5;28;01mraise\u001b[39;00m \u001b[38;5;167;01mValueError\u001b[39;00m(\n\u001b[1;32m    249\u001b[0m         \u001b[38;5;124m\"\u001b[39m\u001b[38;5;124mfigsize=\u001b[39m\u001b[38;5;124m'\u001b[39m\u001b[38;5;124mdefault\u001b[39m\u001b[38;5;124m'\u001b[39m\u001b[38;5;124m is no longer supported. \u001b[39m\u001b[38;5;124m\"\u001b[39m\n\u001b[1;32m    250\u001b[0m         \u001b[38;5;124m\"\u001b[39m\u001b[38;5;124mSpecify figure size by tuple instead\u001b[39m\u001b[38;5;124m\"\u001b[39m\n\u001b[1;32m    251\u001b[0m     )\n\u001b[0;32m--> 253\u001b[0m grouped \u001b[38;5;241m=\u001b[39m \u001b[43mdata\u001b[49m\u001b[38;5;241;43m.\u001b[39;49m\u001b[43mgroupby\u001b[49m\u001b[43m(\u001b[49m\u001b[43mby\u001b[49m\u001b[43m)\u001b[49m\n\u001b[1;32m    254\u001b[0m \u001b[38;5;28;01mif\u001b[39;00m column \u001b[38;5;129;01mis\u001b[39;00m \u001b[38;5;129;01mnot\u001b[39;00m \u001b[38;5;28;01mNone\u001b[39;00m:\n\u001b[1;32m    255\u001b[0m     grouped \u001b[38;5;241m=\u001b[39m grouped[column]\n",
      "File \u001b[0;32m~/opt/anaconda3/lib/python3.9/site-packages/pandas/core/frame.py:7712\u001b[0m, in \u001b[0;36mDataFrame.groupby\u001b[0;34m(self, by, axis, level, as_index, sort, group_keys, squeeze, observed, dropna)\u001b[0m\n\u001b[1;32m   7707\u001b[0m axis \u001b[38;5;241m=\u001b[39m \u001b[38;5;28mself\u001b[39m\u001b[38;5;241m.\u001b[39m_get_axis_number(axis)\n\u001b[1;32m   7709\u001b[0m \u001b[38;5;66;03m# https://github.com/python/mypy/issues/7642\u001b[39;00m\n\u001b[1;32m   7710\u001b[0m \u001b[38;5;66;03m# error: Argument \"squeeze\" to \"DataFrameGroupBy\" has incompatible type\u001b[39;00m\n\u001b[1;32m   7711\u001b[0m \u001b[38;5;66;03m# \"Union[bool, NoDefault]\"; expected \"bool\"\u001b[39;00m\n\u001b[0;32m-> 7712\u001b[0m \u001b[38;5;28;01mreturn\u001b[39;00m \u001b[43mDataFrameGroupBy\u001b[49m\u001b[43m(\u001b[49m\n\u001b[1;32m   7713\u001b[0m \u001b[43m    \u001b[49m\u001b[43mobj\u001b[49m\u001b[38;5;241;43m=\u001b[39;49m\u001b[38;5;28;43mself\u001b[39;49m\u001b[43m,\u001b[49m\n\u001b[1;32m   7714\u001b[0m \u001b[43m    \u001b[49m\u001b[43mkeys\u001b[49m\u001b[38;5;241;43m=\u001b[39;49m\u001b[43mby\u001b[49m\u001b[43m,\u001b[49m\n\u001b[1;32m   7715\u001b[0m \u001b[43m    \u001b[49m\u001b[43maxis\u001b[49m\u001b[38;5;241;43m=\u001b[39;49m\u001b[43maxis\u001b[49m\u001b[43m,\u001b[49m\n\u001b[1;32m   7716\u001b[0m \u001b[43m    \u001b[49m\u001b[43mlevel\u001b[49m\u001b[38;5;241;43m=\u001b[39;49m\u001b[43mlevel\u001b[49m\u001b[43m,\u001b[49m\n\u001b[1;32m   7717\u001b[0m \u001b[43m    \u001b[49m\u001b[43mas_index\u001b[49m\u001b[38;5;241;43m=\u001b[39;49m\u001b[43mas_index\u001b[49m\u001b[43m,\u001b[49m\n\u001b[1;32m   7718\u001b[0m \u001b[43m    \u001b[49m\u001b[43msort\u001b[49m\u001b[38;5;241;43m=\u001b[39;49m\u001b[43msort\u001b[49m\u001b[43m,\u001b[49m\n\u001b[1;32m   7719\u001b[0m \u001b[43m    \u001b[49m\u001b[43mgroup_keys\u001b[49m\u001b[38;5;241;43m=\u001b[39;49m\u001b[43mgroup_keys\u001b[49m\u001b[43m,\u001b[49m\n\u001b[1;32m   7720\u001b[0m \u001b[43m    \u001b[49m\u001b[43msqueeze\u001b[49m\u001b[38;5;241;43m=\u001b[39;49m\u001b[43msqueeze\u001b[49m\u001b[43m,\u001b[49m\u001b[43m  \u001b[49m\u001b[38;5;66;43;03m# type: ignore[arg-type]\u001b[39;49;00m\n\u001b[1;32m   7721\u001b[0m \u001b[43m    \u001b[49m\u001b[43mobserved\u001b[49m\u001b[38;5;241;43m=\u001b[39;49m\u001b[43mobserved\u001b[49m\u001b[43m,\u001b[49m\n\u001b[1;32m   7722\u001b[0m \u001b[43m    \u001b[49m\u001b[43mdropna\u001b[49m\u001b[38;5;241;43m=\u001b[39;49m\u001b[43mdropna\u001b[49m\u001b[43m,\u001b[49m\n\u001b[1;32m   7723\u001b[0m \u001b[43m\u001b[49m\u001b[43m)\u001b[49m\n",
      "File \u001b[0;32m~/opt/anaconda3/lib/python3.9/site-packages/pandas/core/groupby/groupby.py:882\u001b[0m, in \u001b[0;36mGroupBy.__init__\u001b[0;34m(self, obj, keys, axis, level, grouper, exclusions, selection, as_index, sort, group_keys, squeeze, observed, mutated, dropna)\u001b[0m\n\u001b[1;32m    879\u001b[0m \u001b[38;5;28;01mif\u001b[39;00m grouper \u001b[38;5;129;01mis\u001b[39;00m \u001b[38;5;28;01mNone\u001b[39;00m:\n\u001b[1;32m    880\u001b[0m     \u001b[38;5;28;01mfrom\u001b[39;00m \u001b[38;5;21;01mpandas\u001b[39;00m\u001b[38;5;21;01m.\u001b[39;00m\u001b[38;5;21;01mcore\u001b[39;00m\u001b[38;5;21;01m.\u001b[39;00m\u001b[38;5;21;01mgroupby\u001b[39;00m\u001b[38;5;21;01m.\u001b[39;00m\u001b[38;5;21;01mgrouper\u001b[39;00m \u001b[38;5;28;01mimport\u001b[39;00m get_grouper\n\u001b[0;32m--> 882\u001b[0m     grouper, exclusions, obj \u001b[38;5;241m=\u001b[39m \u001b[43mget_grouper\u001b[49m\u001b[43m(\u001b[49m\n\u001b[1;32m    883\u001b[0m \u001b[43m        \u001b[49m\u001b[43mobj\u001b[49m\u001b[43m,\u001b[49m\n\u001b[1;32m    884\u001b[0m \u001b[43m        \u001b[49m\u001b[43mkeys\u001b[49m\u001b[43m,\u001b[49m\n\u001b[1;32m    885\u001b[0m \u001b[43m        \u001b[49m\u001b[43maxis\u001b[49m\u001b[38;5;241;43m=\u001b[39;49m\u001b[43maxis\u001b[49m\u001b[43m,\u001b[49m\n\u001b[1;32m    886\u001b[0m \u001b[43m        \u001b[49m\u001b[43mlevel\u001b[49m\u001b[38;5;241;43m=\u001b[39;49m\u001b[43mlevel\u001b[49m\u001b[43m,\u001b[49m\n\u001b[1;32m    887\u001b[0m \u001b[43m        \u001b[49m\u001b[43msort\u001b[49m\u001b[38;5;241;43m=\u001b[39;49m\u001b[43msort\u001b[49m\u001b[43m,\u001b[49m\n\u001b[1;32m    888\u001b[0m \u001b[43m        \u001b[49m\u001b[43mobserved\u001b[49m\u001b[38;5;241;43m=\u001b[39;49m\u001b[43mobserved\u001b[49m\u001b[43m,\u001b[49m\n\u001b[1;32m    889\u001b[0m \u001b[43m        \u001b[49m\u001b[43mmutated\u001b[49m\u001b[38;5;241;43m=\u001b[39;49m\u001b[38;5;28;43mself\u001b[39;49m\u001b[38;5;241;43m.\u001b[39;49m\u001b[43mmutated\u001b[49m\u001b[43m,\u001b[49m\n\u001b[1;32m    890\u001b[0m \u001b[43m        \u001b[49m\u001b[43mdropna\u001b[49m\u001b[38;5;241;43m=\u001b[39;49m\u001b[38;5;28;43mself\u001b[39;49m\u001b[38;5;241;43m.\u001b[39;49m\u001b[43mdropna\u001b[49m\u001b[43m,\u001b[49m\n\u001b[1;32m    891\u001b[0m \u001b[43m    \u001b[49m\u001b[43m)\u001b[49m\n\u001b[1;32m    893\u001b[0m \u001b[38;5;28mself\u001b[39m\u001b[38;5;241m.\u001b[39mobj \u001b[38;5;241m=\u001b[39m obj\n\u001b[1;32m    894\u001b[0m \u001b[38;5;28mself\u001b[39m\u001b[38;5;241m.\u001b[39maxis \u001b[38;5;241m=\u001b[39m obj\u001b[38;5;241m.\u001b[39m_get_axis_number(axis)\n",
      "File \u001b[0;32m~/opt/anaconda3/lib/python3.9/site-packages/pandas/core/groupby/grouper.py:882\u001b[0m, in \u001b[0;36mget_grouper\u001b[0;34m(obj, key, axis, level, sort, observed, mutated, validate, dropna)\u001b[0m\n\u001b[1;32m    880\u001b[0m         in_axis, level, gpr \u001b[38;5;241m=\u001b[39m \u001b[38;5;28;01mFalse\u001b[39;00m, gpr, \u001b[38;5;28;01mNone\u001b[39;00m\n\u001b[1;32m    881\u001b[0m     \u001b[38;5;28;01melse\u001b[39;00m:\n\u001b[0;32m--> 882\u001b[0m         \u001b[38;5;28;01mraise\u001b[39;00m \u001b[38;5;167;01mKeyError\u001b[39;00m(gpr)\n\u001b[1;32m    883\u001b[0m \u001b[38;5;28;01melif\u001b[39;00m \u001b[38;5;28misinstance\u001b[39m(gpr, Grouper) \u001b[38;5;129;01mand\u001b[39;00m gpr\u001b[38;5;241m.\u001b[39mkey \u001b[38;5;129;01mis\u001b[39;00m \u001b[38;5;129;01mnot\u001b[39;00m \u001b[38;5;28;01mNone\u001b[39;00m:\n\u001b[1;32m    884\u001b[0m     \u001b[38;5;66;03m# Add key to exclusions\u001b[39;00m\n\u001b[1;32m    885\u001b[0m     exclusions\u001b[38;5;241m.\u001b[39madd(gpr\u001b[38;5;241m.\u001b[39mkey)\n",
      "\u001b[0;31mKeyError\u001b[0m: ''"
     ]
    }
   ],
   "source": [
    "df.hist(column = 'prices', by ='')"
   ]
  },
  {
   "cell_type": "code",
   "execution_count": null,
   "id": "9134ed82-2de6-48fb-a8c0-7b0440373ecf",
   "metadata": {},
   "outputs": [],
   "source": [
    "df['order_hour_of_day'].describe()"
   ]
  },
  {
   "cell_type": "code",
   "execution_count": null,
   "id": "15081d27-2746-4b79-bbd6-a08f5bb341ee",
   "metadata": {},
   "outputs": [],
   "source": [
    "# Exporting the Images\n",
    "Region_order_of_day.figure.savefig(os.path.join(path, 'Analysis', 'Visualizations', 'regional_orders.png'))"
   ]
  },
  {
   "cell_type": "code",
   "execution_count": null,
   "id": "6853c582-a364-4173-8ccc-6d847581d604",
   "metadata": {},
   "outputs": [],
   "source": [
    "# Finding NaN states \n",
    "df[df['Region'].isnull()]"
   ]
  },
  {
   "cell_type": "markdown",
   "id": "2142684d-d33d-4b72-a4b2-f8fc9a28ea00",
   "metadata": {},
   "source": [
    "# 4. Spending Trends in different U.S. Regions"
   ]
  },
  {
   "cell_type": "code",
   "execution_count": null,
   "id": "8fb730ab-e767-445e-a99d-236164844dbd",
   "metadata": {},
   "outputs": [],
   "source": [
    "# crossing the region and spending crosstab\n",
    "region_spending = pd.crosstab(df['Region'], df['spending_flag'], dropna = False)"
   ]
  },
  {
   "cell_type": "code",
   "execution_count": null,
   "id": "a10a01bf-bdb0-421f-95f9-f3592c1093c4",
   "metadata": {},
   "outputs": [],
   "source": [
    "# View the region spending\n",
    "region_spending.head()"
   ]
  },
  {
   "cell_type": "code",
   "execution_count": null,
   "id": "173d8ae0-e4b0-4934-9e52-ae88062d2f2a",
   "metadata": {},
   "outputs": [],
   "source": [
    "# bar graph for the spending flag distribution \n",
    "region_spending_bar = region_spending.plot.bar()"
   ]
  },
  {
   "cell_type": "markdown",
   "id": "968d642e-6415-4ec4-878b-16bbccbbf598",
   "metadata": {},
   "source": [
    "### South has the Most customers for high spender and low spender. Foloowed by the West and NorthWest."
   ]
  },
  {
   "cell_type": "markdown",
   "id": "fb643d23-effb-4837-acf4-0f4cda4fc223",
   "metadata": {},
   "source": [
    "# 5. Create an exclusion flag for low_activity customers with less than five orders and exclude from the data"
   ]
  },
  {
   "cell_type": "code",
   "execution_count": null,
   "id": "3d9df6f1-ea3a-43ab-a12d-b7cc96ea6582",
   "metadata": {},
   "outputs": [],
   "source": [
    "df.info()"
   ]
  },
  {
   "cell_type": "code",
   "execution_count": null,
   "id": "004a12e9-1edf-4265-800c-0e4cbe238cdc",
   "metadata": {},
   "outputs": [],
   "source": [
    "# creating the low_activity flag\n",
    "df.loc[df['max_order'] < 5, 'activity_customers'] = 'low activity'"
   ]
  },
  {
   "cell_type": "code",
   "execution_count": null,
   "id": "b0e6629a-1abf-40dc-bf18-417ed9297bd8",
   "metadata": {},
   "outputs": [],
   "source": [
    "# Create a high activy flag\n",
    "df.loc[df['max_order'] >= 5, 'activity_customers'] = 'High activity'"
   ]
  },
  {
   "cell_type": "code",
   "execution_count": null,
   "id": "2b1901ee-264b-41c6-9592-809687d46de6",
   "metadata": {},
   "outputs": [],
   "source": [
    "# Checking the Activity column\n",
    "df['activity_customers'].value_counts(dropna = False)"
   ]
  },
  {
   "cell_type": "code",
   "execution_count": null,
   "id": "5d9d2dda-f725-44ff-bb1f-3cce20b29780",
   "metadata": {},
   "outputs": [],
   "source": [
    "# Create a datafrfame without the low acticity\n",
    "df_active_customers = df.loc[df['activity_customers'] == 'High activity']"
   ]
  },
  {
   "cell_type": "code",
   "execution_count": null,
   "id": "5f781966-73fe-4f61-8d92-1c536fb2b871",
   "metadata": {},
   "outputs": [],
   "source": [
    "# Checkout the new dataframe\n",
    "df_active_customers.head()"
   ]
  },
  {
   "cell_type": "markdown",
   "id": "8e8013c7-056e-441c-be57-57680a4c3ed4",
   "metadata": {
    "tags": []
   },
   "source": [
    "# 6. Customer Profiling variable"
   ]
  },
  {
   "cell_type": "markdown",
   "id": "71208263-046f-48c9-9e00-a9e1d274c634",
   "metadata": {},
   "source": [
    "## They want to create a profiling vaiable base on age,income,cetain goods in the department_id column and number of dependents"
   ]
  },
  {
   "cell_type": "code",
   "execution_count": null,
   "id": "22bf4894-7fe9-4f6a-886f-0390f2984787",
   "metadata": {},
   "outputs": [],
   "source": [
    "# descriptive statistics on the age, income, and number of dependents parameters\n",
    "df[['age', 'income','dependants_number']].describe()"
   ]
  },
  {
   "cell_type": "code",
   "execution_count": null,
   "id": "49b0a3a1-3709-435e-8a09-d31e34e0f255",
   "metadata": {},
   "outputs": [],
   "source": [
    "df_dict"
   ]
  },
  {
   "cell_type": "code",
   "execution_count": null,
   "id": "32634cba-76d1-48fe-afec-49b5f6391d24",
   "metadata": {},
   "outputs": [],
   "source": [
    "# new parent profile (including parents that have a new babies but multiple children)\n",
    "df.loc[(df['dependants_number'] >= 1) &  (df['department_id'] == 18), 'Customer_profile'] = 'New Parent'"
   ]
  },
  {
   "cell_type": "code",
   "execution_count": null,
   "id": "b4f2054f-544d-4337-a1c5-43958adbe00c",
   "metadata": {},
   "outputs": [],
   "source": [
    "# single adult profile\n",
    "df.loc[(df['dependants_number'] == 0) &  (df['age'] < 65), 'Customer_profile'] = 'Single Adult'"
   ]
  },
  {
   "cell_type": "code",
   "execution_count": null,
   "id": "edcbcf40-7853-463e-9187-a85e65147a7e",
   "metadata": {},
   "outputs": [],
   "source": [
    "# single parent profile\n",
    "df.loc[(df['dependants_number'] >= 1) & (df['income'] < 50000) &  (df['department_id'] != 18), 'Customer_profile'] = 'Single Parent'"
   ]
  },
  {
   "cell_type": "code",
   "execution_count": null,
   "id": "82bd6c9d-cea2-44a3-96c5-3af5c96a4c7d",
   "metadata": {},
   "outputs": [],
   "source": [
    "# partnered parent profile\n",
    "df.loc[(df['dependants_number'] >= 1) & (df['income'] >= 50000) &  (df['department_id'] != 18), 'Customer_profile'] = 'Married Parents'"
   ]
  },
  {
   "cell_type": "code",
   "execution_count": null,
   "id": "de554f72-e41e-4faa-a8aa-9c8433d69f64",
   "metadata": {},
   "outputs": [],
   "source": [
    "# retired adult profile\n",
    "df.loc[(df['dependants_number'] == 0) &  (df['age'] >= 65), 'Customer_profile'] = 'Retired Adult'"
   ]
  },
  {
   "cell_type": "code",
   "execution_count": null,
   "id": "16e35440-5e19-45e1-bc03-2e22c98b8ef8",
   "metadata": {},
   "outputs": [],
   "source": [
    "# Check the frequency for Customer Profile\n",
    "df['Customer_profile'].value_counts()"
   ]
  },
  {
   "cell_type": "code",
   "execution_count": null,
   "id": "17c31811-6623-4ff5-8a6e-0a61f27d7853",
   "metadata": {},
   "outputs": [],
   "source": [
    "#Profile distribution\n",
    "profile_dist_bar = df['Customer_profile'].value_counts().plot.bar()"
   ]
  },
  {
   "cell_type": "code",
   "execution_count": 25,
   "id": "e3f85c25-b505-46e6-9426-44b3cfd3fb5b",
   "metadata": {},
   "outputs": [
    {
     "ename": "KeyError",
     "evalue": "'Customer_profile'",
     "output_type": "error",
     "traceback": [
      "\u001b[0;31m---------------------------------------------------------------------------\u001b[0m",
      "\u001b[0;31mKeyError\u001b[0m                                  Traceback (most recent call last)",
      "File \u001b[0;32m~/opt/anaconda3/lib/python3.9/site-packages/pandas/core/indexes/base.py:3621\u001b[0m, in \u001b[0;36mIndex.get_loc\u001b[0;34m(self, key, method, tolerance)\u001b[0m\n\u001b[1;32m   3620\u001b[0m \u001b[38;5;28;01mtry\u001b[39;00m:\n\u001b[0;32m-> 3621\u001b[0m     \u001b[38;5;28;01mreturn\u001b[39;00m \u001b[38;5;28;43mself\u001b[39;49m\u001b[38;5;241;43m.\u001b[39;49m\u001b[43m_engine\u001b[49m\u001b[38;5;241;43m.\u001b[39;49m\u001b[43mget_loc\u001b[49m\u001b[43m(\u001b[49m\u001b[43mcasted_key\u001b[49m\u001b[43m)\u001b[49m\n\u001b[1;32m   3622\u001b[0m \u001b[38;5;28;01mexcept\u001b[39;00m \u001b[38;5;167;01mKeyError\u001b[39;00m \u001b[38;5;28;01mas\u001b[39;00m err:\n",
      "File \u001b[0;32m~/opt/anaconda3/lib/python3.9/site-packages/pandas/_libs/index.pyx:136\u001b[0m, in \u001b[0;36mpandas._libs.index.IndexEngine.get_loc\u001b[0;34m()\u001b[0m\n",
      "File \u001b[0;32m~/opt/anaconda3/lib/python3.9/site-packages/pandas/_libs/index.pyx:163\u001b[0m, in \u001b[0;36mpandas._libs.index.IndexEngine.get_loc\u001b[0;34m()\u001b[0m\n",
      "File \u001b[0;32mpandas/_libs/hashtable_class_helper.pxi:5198\u001b[0m, in \u001b[0;36mpandas._libs.hashtable.PyObjectHashTable.get_item\u001b[0;34m()\u001b[0m\n",
      "File \u001b[0;32mpandas/_libs/hashtable_class_helper.pxi:5206\u001b[0m, in \u001b[0;36mpandas._libs.hashtable.PyObjectHashTable.get_item\u001b[0;34m()\u001b[0m\n",
      "\u001b[0;31mKeyError\u001b[0m: 'Customer_profile'",
      "\nThe above exception was the direct cause of the following exception:\n",
      "\u001b[0;31mKeyError\u001b[0m                                  Traceback (most recent call last)",
      "Input \u001b[0;32mIn [25]\u001b[0m, in \u001b[0;36m<cell line: 1>\u001b[0;34m()\u001b[0m\n\u001b[0;32m----> 1\u001b[0m \u001b[43mdf\u001b[49m\u001b[38;5;241;43m.\u001b[39;49m\u001b[43mplot\u001b[49m\u001b[43m(\u001b[49m\u001b[43mdata\u001b[49m\u001b[43m \u001b[49m\u001b[38;5;241;43m=\u001b[39;49m\u001b[43m \u001b[49m\u001b[43mdf\u001b[49m\u001b[43m,\u001b[49m\u001b[43m \u001b[49m\u001b[43mx\u001b[49m\u001b[38;5;241;43m=\u001b[39;49m\u001b[38;5;124;43m'\u001b[39;49m\u001b[38;5;124;43mCustomer_profile\u001b[39;49m\u001b[38;5;124;43m'\u001b[39;49m\u001b[43m,\u001b[49m\u001b[43m \u001b[49m\u001b[43my\u001b[49m\u001b[38;5;241;43m=\u001b[39;49m\u001b[38;5;124;43m'\u001b[39;49m\u001b[38;5;124;43mprices\u001b[39;49m\u001b[38;5;124;43m'\u001b[39;49m\u001b[43m,\u001b[49m\u001b[43m \u001b[49m\u001b[43mkind\u001b[49m\u001b[43m \u001b[49m\u001b[38;5;241;43m=\u001b[39;49m\u001b[43m \u001b[49m\u001b[38;5;124;43m\"\u001b[39;49m\u001b[38;5;124;43mbar\u001b[39;49m\u001b[38;5;124;43m\"\u001b[39;49m\u001b[43m)\u001b[49m\n",
      "File \u001b[0;32m~/opt/anaconda3/lib/python3.9/site-packages/pandas/plotting/_core.py:937\u001b[0m, in \u001b[0;36mPlotAccessor.__call__\u001b[0;34m(self, *args, **kwargs)\u001b[0m\n\u001b[1;32m    935\u001b[0m \u001b[38;5;28;01mif\u001b[39;00m is_integer(x) \u001b[38;5;129;01mand\u001b[39;00m \u001b[38;5;129;01mnot\u001b[39;00m data\u001b[38;5;241m.\u001b[39mcolumns\u001b[38;5;241m.\u001b[39mholds_integer():\n\u001b[1;32m    936\u001b[0m     x \u001b[38;5;241m=\u001b[39m data_cols[x]\n\u001b[0;32m--> 937\u001b[0m \u001b[38;5;28;01melif\u001b[39;00m \u001b[38;5;129;01mnot\u001b[39;00m \u001b[38;5;28misinstance\u001b[39m(\u001b[43mdata\u001b[49m\u001b[43m[\u001b[49m\u001b[43mx\u001b[49m\u001b[43m]\u001b[49m, ABCSeries):\n\u001b[1;32m    938\u001b[0m     \u001b[38;5;28;01mraise\u001b[39;00m \u001b[38;5;167;01mValueError\u001b[39;00m(\u001b[38;5;124m\"\u001b[39m\u001b[38;5;124mx must be a label or position\u001b[39m\u001b[38;5;124m\"\u001b[39m)\n\u001b[1;32m    939\u001b[0m data \u001b[38;5;241m=\u001b[39m data\u001b[38;5;241m.\u001b[39mset_index(x)\n",
      "File \u001b[0;32m~/opt/anaconda3/lib/python3.9/site-packages/pandas/core/frame.py:3505\u001b[0m, in \u001b[0;36mDataFrame.__getitem__\u001b[0;34m(self, key)\u001b[0m\n\u001b[1;32m   3503\u001b[0m \u001b[38;5;28;01mif\u001b[39;00m \u001b[38;5;28mself\u001b[39m\u001b[38;5;241m.\u001b[39mcolumns\u001b[38;5;241m.\u001b[39mnlevels \u001b[38;5;241m>\u001b[39m \u001b[38;5;241m1\u001b[39m:\n\u001b[1;32m   3504\u001b[0m     \u001b[38;5;28;01mreturn\u001b[39;00m \u001b[38;5;28mself\u001b[39m\u001b[38;5;241m.\u001b[39m_getitem_multilevel(key)\n\u001b[0;32m-> 3505\u001b[0m indexer \u001b[38;5;241m=\u001b[39m \u001b[38;5;28;43mself\u001b[39;49m\u001b[38;5;241;43m.\u001b[39;49m\u001b[43mcolumns\u001b[49m\u001b[38;5;241;43m.\u001b[39;49m\u001b[43mget_loc\u001b[49m\u001b[43m(\u001b[49m\u001b[43mkey\u001b[49m\u001b[43m)\u001b[49m\n\u001b[1;32m   3506\u001b[0m \u001b[38;5;28;01mif\u001b[39;00m is_integer(indexer):\n\u001b[1;32m   3507\u001b[0m     indexer \u001b[38;5;241m=\u001b[39m [indexer]\n",
      "File \u001b[0;32m~/opt/anaconda3/lib/python3.9/site-packages/pandas/core/indexes/base.py:3623\u001b[0m, in \u001b[0;36mIndex.get_loc\u001b[0;34m(self, key, method, tolerance)\u001b[0m\n\u001b[1;32m   3621\u001b[0m     \u001b[38;5;28;01mreturn\u001b[39;00m \u001b[38;5;28mself\u001b[39m\u001b[38;5;241m.\u001b[39m_engine\u001b[38;5;241m.\u001b[39mget_loc(casted_key)\n\u001b[1;32m   3622\u001b[0m \u001b[38;5;28;01mexcept\u001b[39;00m \u001b[38;5;167;01mKeyError\u001b[39;00m \u001b[38;5;28;01mas\u001b[39;00m err:\n\u001b[0;32m-> 3623\u001b[0m     \u001b[38;5;28;01mraise\u001b[39;00m \u001b[38;5;167;01mKeyError\u001b[39;00m(key) \u001b[38;5;28;01mfrom\u001b[39;00m \u001b[38;5;21;01merr\u001b[39;00m\n\u001b[1;32m   3624\u001b[0m \u001b[38;5;28;01mexcept\u001b[39;00m \u001b[38;5;167;01mTypeError\u001b[39;00m:\n\u001b[1;32m   3625\u001b[0m     \u001b[38;5;66;03m# If we have a listlike key, _check_indexing_error will raise\u001b[39;00m\n\u001b[1;32m   3626\u001b[0m     \u001b[38;5;66;03m#  InvalidIndexError. Otherwise we fall through and re-raise\u001b[39;00m\n\u001b[1;32m   3627\u001b[0m     \u001b[38;5;66;03m#  the TypeError.\u001b[39;00m\n\u001b[1;32m   3628\u001b[0m     \u001b[38;5;28mself\u001b[39m\u001b[38;5;241m.\u001b[39m_check_indexing_error(key)\n",
      "\u001b[0;31mKeyError\u001b[0m: 'Customer_profile'"
     ]
    }
   ],
   "source": [
    "df.plot(data = df, x='Customer_profile', y='prices', kind = \"bar\")"
   ]
  },
  {
   "cell_type": "markdown",
   "id": "a0e0e800-051b-4692-bf49-da4d571cd67b",
   "metadata": {},
   "source": [
    "### Most Customers are married Parents following by single adult and single parent"
   ]
  },
  {
   "cell_type": "markdown",
   "id": "2effd5e5-2f26-45f0-ba7a-34e7d5cb2099",
   "metadata": {},
   "source": [
    "# Customer_Profile Aggregation"
   ]
  },
  {
   "cell_type": "code",
   "execution_count": 27,
   "id": "87dcbd7a-cfc2-4136-95ab-60647dc4a0f6",
   "metadata": {},
   "outputs": [
    {
     "data": {
      "text/html": [
       "<div>\n",
       "<style scoped>\n",
       "    .dataframe tbody tr th:only-of-type {\n",
       "        vertical-align: middle;\n",
       "    }\n",
       "\n",
       "    .dataframe tbody tr th {\n",
       "        vertical-align: top;\n",
       "    }\n",
       "\n",
       "    .dataframe thead tr th {\n",
       "        text-align: left;\n",
       "    }\n",
       "\n",
       "    .dataframe thead tr:last-of-type th {\n",
       "        text-align: right;\n",
       "    }\n",
       "</style>\n",
       "<table border=\"1\" class=\"dataframe\">\n",
       "  <thead>\n",
       "    <tr>\n",
       "      <th></th>\n",
       "      <th colspan=\"3\" halign=\"left\">prices</th>\n",
       "    </tr>\n",
       "    <tr>\n",
       "      <th></th>\n",
       "      <th>mean</th>\n",
       "      <th>max</th>\n",
       "      <th>min</th>\n",
       "    </tr>\n",
       "    <tr>\n",
       "      <th>Customer_profile</th>\n",
       "      <th></th>\n",
       "      <th></th>\n",
       "      <th></th>\n",
       "    </tr>\n",
       "  </thead>\n",
       "  <tbody>\n",
       "    <tr>\n",
       "      <th>Married Parents</th>\n",
       "      <td>12.649539</td>\n",
       "      <td>99999.0</td>\n",
       "      <td>1.0</td>\n",
       "    </tr>\n",
       "    <tr>\n",
       "      <th>New Parent</th>\n",
       "      <td>7.650679</td>\n",
       "      <td>15.0</td>\n",
       "      <td>1.0</td>\n",
       "    </tr>\n",
       "    <tr>\n",
       "      <th>Retired Adult</th>\n",
       "      <td>11.905177</td>\n",
       "      <td>99999.0</td>\n",
       "      <td>1.0</td>\n",
       "    </tr>\n",
       "    <tr>\n",
       "      <th>Single Adult</th>\n",
       "      <td>12.208715</td>\n",
       "      <td>99999.0</td>\n",
       "      <td>1.0</td>\n",
       "    </tr>\n",
       "    <tr>\n",
       "      <th>Single Parent</th>\n",
       "      <td>6.691449</td>\n",
       "      <td>25.0</td>\n",
       "      <td>1.0</td>\n",
       "    </tr>\n",
       "  </tbody>\n",
       "</table>\n",
       "</div>"
      ],
      "text/plain": [
       "                     prices              \n",
       "                       mean      max  min\n",
       "Customer_profile                         \n",
       "Married Parents   12.649539  99999.0  1.0\n",
       "New Parent         7.650679     15.0  1.0\n",
       "Retired Adult     11.905177  99999.0  1.0\n",
       "Single Adult      12.208715  99999.0  1.0\n",
       "Single Parent      6.691449     25.0  1.0"
      ]
     },
     "execution_count": 27,
     "metadata": {},
     "output_type": "execute_result"
    }
   ],
   "source": [
    "# grouping profiles by mean, max, and min expenditure \n",
    "df.groupby('Customer_profile').agg({'prices' : ['mean', 'max', 'min']})"
   ]
  },
  {
   "cell_type": "code",
   "execution_count": 28,
   "id": "d426026d-e90d-4d63-b9d7-5f5b1ceb48b4",
   "metadata": {},
   "outputs": [
    {
     "data": {
      "text/html": [
       "<div>\n",
       "<style scoped>\n",
       "    .dataframe tbody tr th:only-of-type {\n",
       "        vertical-align: middle;\n",
       "    }\n",
       "\n",
       "    .dataframe tbody tr th {\n",
       "        vertical-align: top;\n",
       "    }\n",
       "\n",
       "    .dataframe thead tr th {\n",
       "        text-align: left;\n",
       "    }\n",
       "\n",
       "    .dataframe thead tr:last-of-type th {\n",
       "        text-align: right;\n",
       "    }\n",
       "</style>\n",
       "<table border=\"1\" class=\"dataframe\">\n",
       "  <thead>\n",
       "    <tr>\n",
       "      <th></th>\n",
       "      <th colspan=\"3\" halign=\"left\">days_since_last_order</th>\n",
       "    </tr>\n",
       "    <tr>\n",
       "      <th></th>\n",
       "      <th>mean</th>\n",
       "      <th>max</th>\n",
       "      <th>min</th>\n",
       "    </tr>\n",
       "    <tr>\n",
       "      <th>Customer_profile</th>\n",
       "      <th></th>\n",
       "      <th></th>\n",
       "      <th></th>\n",
       "    </tr>\n",
       "  </thead>\n",
       "  <tbody>\n",
       "    <tr>\n",
       "      <th>Married Parents</th>\n",
       "      <td>11.066002</td>\n",
       "      <td>30.0</td>\n",
       "      <td>0.0</td>\n",
       "    </tr>\n",
       "    <tr>\n",
       "      <th>New Parent</th>\n",
       "      <td>9.963975</td>\n",
       "      <td>30.0</td>\n",
       "      <td>0.0</td>\n",
       "    </tr>\n",
       "    <tr>\n",
       "      <th>Retired Adult</th>\n",
       "      <td>11.065273</td>\n",
       "      <td>30.0</td>\n",
       "      <td>0.0</td>\n",
       "    </tr>\n",
       "    <tr>\n",
       "      <th>Single Adult</th>\n",
       "      <td>11.086311</td>\n",
       "      <td>30.0</td>\n",
       "      <td>0.0</td>\n",
       "    </tr>\n",
       "    <tr>\n",
       "      <th>Single Parent</th>\n",
       "      <td>11.621855</td>\n",
       "      <td>30.0</td>\n",
       "      <td>0.0</td>\n",
       "    </tr>\n",
       "  </tbody>\n",
       "</table>\n",
       "</div>"
      ],
      "text/plain": [
       "                 days_since_last_order           \n",
       "                                  mean   max  min\n",
       "Customer_profile                                 \n",
       "Married Parents              11.066002  30.0  0.0\n",
       "New Parent                    9.963975  30.0  0.0\n",
       "Retired Adult                11.065273  30.0  0.0\n",
       "Single Adult                 11.086311  30.0  0.0\n",
       "Single Parent                11.621855  30.0  0.0"
      ]
     },
     "execution_count": 28,
     "metadata": {},
     "output_type": "execute_result"
    }
   ],
   "source": [
    "# grouping profiles by mean, max, and min usage frequency (with days_since_prior_order)\n",
    "df.groupby('Customer_profile').agg({'days_since_last_order' : ['mean', 'max', 'min']})"
   ]
  },
  {
   "cell_type": "code",
   "execution_count": 29,
   "id": "e1f95eaa-cc03-4eea-a37c-acf79e4a4ecf",
   "metadata": {},
   "outputs": [
    {
     "data": {
      "text/html": [
       "<div>\n",
       "<style scoped>\n",
       "    .dataframe tbody tr th:only-of-type {\n",
       "        vertical-align: middle;\n",
       "    }\n",
       "\n",
       "    .dataframe tbody tr th {\n",
       "        vertical-align: top;\n",
       "    }\n",
       "\n",
       "    .dataframe thead th {\n",
       "        text-align: right;\n",
       "    }\n",
       "</style>\n",
       "<table border=\"1\" class=\"dataframe\">\n",
       "  <thead>\n",
       "    <tr style=\"text-align: right;\">\n",
       "      <th>Region</th>\n",
       "      <th>Midwest</th>\n",
       "      <th>NorthEast</th>\n",
       "      <th>South</th>\n",
       "      <th>West</th>\n",
       "    </tr>\n",
       "    <tr>\n",
       "      <th>Customer_profile</th>\n",
       "      <th></th>\n",
       "      <th></th>\n",
       "      <th></th>\n",
       "      <th></th>\n",
       "    </tr>\n",
       "  </thead>\n",
       "  <tbody>\n",
       "    <tr>\n",
       "      <th>Married Parents</th>\n",
       "      <td>4991867</td>\n",
       "      <td>3788490</td>\n",
       "      <td>7080228</td>\n",
       "      <td>5462548</td>\n",
       "    </tr>\n",
       "    <tr>\n",
       "      <th>New Parent</th>\n",
       "      <td>73594</td>\n",
       "      <td>56621</td>\n",
       "      <td>107309</td>\n",
       "      <td>79784</td>\n",
       "    </tr>\n",
       "    <tr>\n",
       "      <th>Retired Adult</th>\n",
       "      <td>492762</td>\n",
       "      <td>395847</td>\n",
       "      <td>691055</td>\n",
       "      <td>540420</td>\n",
       "    </tr>\n",
       "    <tr>\n",
       "      <th>Single Adult</th>\n",
       "      <td>1412438</td>\n",
       "      <td>1022454</td>\n",
       "      <td>2010604</td>\n",
       "      <td>1531923</td>\n",
       "    </tr>\n",
       "    <tr>\n",
       "      <th>Single Parent</th>\n",
       "      <td>626664</td>\n",
       "      <td>459324</td>\n",
       "      <td>902689</td>\n",
       "      <td>678238</td>\n",
       "    </tr>\n",
       "  </tbody>\n",
       "</table>\n",
       "</div>"
      ],
      "text/plain": [
       "Region            Midwest  NorthEast    South     West\n",
       "Customer_profile                                      \n",
       "Married Parents   4991867    3788490  7080228  5462548\n",
       "New Parent          73594      56621   107309    79784\n",
       "Retired Adult      492762     395847   691055   540420\n",
       "Single Adult      1412438    1022454  2010604  1531923\n",
       "Single Parent      626664     459324   902689   678238"
      ]
     },
     "execution_count": 29,
     "metadata": {},
     "output_type": "execute_result"
    }
   ],
   "source": [
    "# crosstab comparing profiles and region\n",
    "regional_profiles = pd.crosstab(df['Customer_profile'], df['Region'])\n",
    "regional_profiles"
   ]
  },
  {
   "cell_type": "code",
   "execution_count": 30,
   "id": "e2002337-b274-45a7-8c32-f4eff2471b0b",
   "metadata": {},
   "outputs": [
    {
     "data": {
      "image/png": "[encoded data removed]",
      "text/plain": [
       "<Figure size 432x288 with 1 Axes>"
      ]
     },
     "metadata": {
      "needs_background": "light"
     },
     "output_type": "display_data"
    }
   ],
   "source": [
    "regional_profiles_bar = regional_profiles.plot.bar()"
   ]
  },
  {
   "cell_type": "code",
   "execution_count": 31,
   "id": "aa76398d-10f2-42b9-b0dd-19b653ce2c61",
   "metadata": {},
   "outputs": [
    {
     "data": {
      "image/png": "[encoded data removed]",
      "text/plain": [
       "<Figure size 432x288 with 1 Axes>"
      ]
     },
     "metadata": {
      "needs_background": "light"
     },
     "output_type": "display_data"
    }
   ],
   "source": [
    "# creating a crosstab of the profiles by region\n",
    "prof_by_reg = pd.crosstab(df['Region'], df['Customer_profile'])\n",
    "prof_by_reg_bar = prof_by_reg.plot.bar()"
   ]
  },
  {
   "cell_type": "markdown",
   "id": "c8b81e4d-1f96-4abe-b0cd-0f5a6961bcf7",
   "metadata": {},
   "source": [
    "### Married Parents send the most for all of the Regions. The South Region Spend the most"
   ]
  },
  {
   "cell_type": "markdown",
   "id": "8e4b2977-6d3b-410c-a3aa-2c3162f362ef",
   "metadata": {},
   "source": [
    "### Married Parents spend the most on average above New parents buys the most "
   ]
  },
  {
   "cell_type": "markdown",
   "id": "cd122c2a-0873-4984-98be-58cea39bc3a3",
   "metadata": {},
   "source": [
    "# 7.Profiles by department"
   ]
  },
  {
   "cell_type": "code",
   "execution_count": 32,
   "id": "76a4c64f-7d27-4f3d-bbf0-f57499f86888",
   "metadata": {},
   "outputs": [],
   "source": [
    "# creating crosstab of profiles by departments\n",
    "prof_by_dep = pd.crosstab(df['department_id'], df['Customer_profile'])"
   ]
  },
  {
   "cell_type": "code",
   "execution_count": 33,
   "id": "699b9a1e-37e9-4a1c-8f3a-b431c98993a5",
   "metadata": {},
   "outputs": [
    {
     "data": {
      "text/html": [
       "<div>\n",
       "<style scoped>\n",
       "    .dataframe tbody tr th:only-of-type {\n",
       "        vertical-align: middle;\n",
       "    }\n",
       "\n",
       "    .dataframe tbody tr th {\n",
       "        vertical-align: top;\n",
       "    }\n",
       "\n",
       "    .dataframe thead th {\n",
       "        text-align: right;\n",
       "    }\n",
       "</style>\n",
       "<table border=\"1\" class=\"dataframe\">\n",
       "  <thead>\n",
       "    <tr style=\"text-align: right;\">\n",
       "      <th>Customer_profile</th>\n",
       "      <th>Married Parents</th>\n",
       "      <th>New Parent</th>\n",
       "      <th>Retired Adult</th>\n",
       "      <th>Single Adult</th>\n",
       "      <th>Single Parent</th>\n",
       "    </tr>\n",
       "    <tr>\n",
       "      <th>department_id</th>\n",
       "      <th></th>\n",
       "      <th></th>\n",
       "      <th></th>\n",
       "      <th></th>\n",
       "      <th></th>\n",
       "    </tr>\n",
       "  </thead>\n",
       "  <tbody>\n",
       "    <tr>\n",
       "      <th>1</th>\n",
       "      <td>1502578</td>\n",
       "      <td>0</td>\n",
       "      <td>148333</td>\n",
       "      <td>408827</td>\n",
       "      <td>175005</td>\n",
       "    </tr>\n",
       "    <tr>\n",
       "      <th>2</th>\n",
       "      <td>24102</td>\n",
       "      <td>0</td>\n",
       "      <td>2291</td>\n",
       "      <td>6884</td>\n",
       "      <td>3014</td>\n",
       "    </tr>\n",
       "    <tr>\n",
       "      <th>3</th>\n",
       "      <td>791765</td>\n",
       "      <td>0</td>\n",
       "      <td>76021</td>\n",
       "      <td>218384</td>\n",
       "      <td>86258</td>\n",
       "    </tr>\n",
       "    <tr>\n",
       "      <th>4</th>\n",
       "      <td>6442856</td>\n",
       "      <td>0</td>\n",
       "      <td>623025</td>\n",
       "      <td>1752420</td>\n",
       "      <td>660990</td>\n",
       "    </tr>\n",
       "    <tr>\n",
       "      <th>5</th>\n",
       "      <td>99495</td>\n",
       "      <td>0</td>\n",
       "      <td>9764</td>\n",
       "      <td>29354</td>\n",
       "      <td>15083</td>\n",
       "    </tr>\n",
       "    <tr>\n",
       "      <th>6</th>\n",
       "      <td>184106</td>\n",
       "      <td>0</td>\n",
       "      <td>17494</td>\n",
       "      <td>50219</td>\n",
       "      <td>17434</td>\n",
       "    </tr>\n",
       "    <tr>\n",
       "      <th>7</th>\n",
       "      <td>1709435</td>\n",
       "      <td>0</td>\n",
       "      <td>176427</td>\n",
       "      <td>498015</td>\n",
       "      <td>304246</td>\n",
       "    </tr>\n",
       "    <tr>\n",
       "      <th>8</th>\n",
       "      <td>66211</td>\n",
       "      <td>0</td>\n",
       "      <td>7024</td>\n",
       "      <td>17559</td>\n",
       "      <td>6922</td>\n",
       "    </tr>\n",
       "    <tr>\n",
       "      <th>9</th>\n",
       "      <td>598751</td>\n",
       "      <td>0</td>\n",
       "      <td>56303</td>\n",
       "      <td>158959</td>\n",
       "      <td>52614</td>\n",
       "    </tr>\n",
       "    <tr>\n",
       "      <th>10</th>\n",
       "      <td>22518</td>\n",
       "      <td>0</td>\n",
       "      <td>2164</td>\n",
       "      <td>6114</td>\n",
       "      <td>3777</td>\n",
       "    </tr>\n",
       "    <tr>\n",
       "      <th>11</th>\n",
       "      <td>297133</td>\n",
       "      <td>0</td>\n",
       "      <td>29838</td>\n",
       "      <td>82168</td>\n",
       "      <td>38433</td>\n",
       "    </tr>\n",
       "    <tr>\n",
       "      <th>12</th>\n",
       "      <td>507159</td>\n",
       "      <td>0</td>\n",
       "      <td>46556</td>\n",
       "      <td>127528</td>\n",
       "      <td>27684</td>\n",
       "    </tr>\n",
       "    <tr>\n",
       "      <th>13</th>\n",
       "      <td>1274250</td>\n",
       "      <td>0</td>\n",
       "      <td>122106</td>\n",
       "      <td>344651</td>\n",
       "      <td>134362</td>\n",
       "    </tr>\n",
       "    <tr>\n",
       "      <th>14</th>\n",
       "      <td>455357</td>\n",
       "      <td>0</td>\n",
       "      <td>44702</td>\n",
       "      <td>129875</td>\n",
       "      <td>73099</td>\n",
       "    </tr>\n",
       "    <tr>\n",
       "      <th>15</th>\n",
       "      <td>738344</td>\n",
       "      <td>0</td>\n",
       "      <td>68668</td>\n",
       "      <td>196170</td>\n",
       "      <td>64876</td>\n",
       "    </tr>\n",
       "    <tr>\n",
       "      <th>16</th>\n",
       "      <td>3651874</td>\n",
       "      <td>0</td>\n",
       "      <td>353749</td>\n",
       "      <td>995613</td>\n",
       "      <td>397511</td>\n",
       "    </tr>\n",
       "    <tr>\n",
       "      <th>17</th>\n",
       "      <td>486818</td>\n",
       "      <td>0</td>\n",
       "      <td>47645</td>\n",
       "      <td>133128</td>\n",
       "      <td>71075</td>\n",
       "    </tr>\n",
       "    <tr>\n",
       "      <th>18</th>\n",
       "      <td>0</td>\n",
       "      <td>317308</td>\n",
       "      <td>26681</td>\n",
       "      <td>79813</td>\n",
       "      <td>0</td>\n",
       "    </tr>\n",
       "    <tr>\n",
       "      <th>19</th>\n",
       "      <td>1722396</td>\n",
       "      <td>0</td>\n",
       "      <td>188488</td>\n",
       "      <td>532310</td>\n",
       "      <td>444356</td>\n",
       "    </tr>\n",
       "    <tr>\n",
       "      <th>20</th>\n",
       "      <td>701249</td>\n",
       "      <td>0</td>\n",
       "      <td>68500</td>\n",
       "      <td>196645</td>\n",
       "      <td>84855</td>\n",
       "    </tr>\n",
       "    <tr>\n",
       "      <th>21</th>\n",
       "      <td>46736</td>\n",
       "      <td>0</td>\n",
       "      <td>4305</td>\n",
       "      <td>12783</td>\n",
       "      <td>5321</td>\n",
       "    </tr>\n",
       "  </tbody>\n",
       "</table>\n",
       "</div>"
      ],
      "text/plain": [
       "Customer_profile  Married Parents  New Parent  Retired Adult  Single Adult  \\\n",
       "department_id                                                                \n",
       "1                         1502578           0         148333        408827   \n",
       "2                           24102           0           2291          6884   \n",
       "3                          791765           0          76021        218384   \n",
       "4                         6442856           0         623025       1752420   \n",
       "5                           99495           0           9764         29354   \n",
       "6                          184106           0          17494         50219   \n",
       "7                         1709435           0         176427        498015   \n",
       "8                           66211           0           7024         17559   \n",
       "9                          598751           0          56303        158959   \n",
       "10                          22518           0           2164          6114   \n",
       "11                         297133           0          29838         82168   \n",
       "12                         507159           0          46556        127528   \n",
       "13                        1274250           0         122106        344651   \n",
       "14                         455357           0          44702        129875   \n",
       "15                         738344           0          68668        196170   \n",
       "16                        3651874           0         353749        995613   \n",
       "17                         486818           0          47645        133128   \n",
       "18                              0      317308          26681         79813   \n",
       "19                        1722396           0         188488        532310   \n",
       "20                         701249           0          68500        196645   \n",
       "21                          46736           0           4305         12783   \n",
       "\n",
       "Customer_profile  Single Parent  \n",
       "department_id                    \n",
       "1                        175005  \n",
       "2                          3014  \n",
       "3                         86258  \n",
       "4                        660990  \n",
       "5                         15083  \n",
       "6                         17434  \n",
       "7                        304246  \n",
       "8                          6922  \n",
       "9                         52614  \n",
       "10                         3777  \n",
       "11                        38433  \n",
       "12                        27684  \n",
       "13                       134362  \n",
       "14                        73099  \n",
       "15                        64876  \n",
       "16                       397511  \n",
       "17                        71075  \n",
       "18                            0  \n",
       "19                       444356  \n",
       "20                        84855  \n",
       "21                         5321  "
      ]
     },
     "execution_count": 33,
     "metadata": {},
     "output_type": "execute_result"
    }
   ],
   "source": [
    "prof_by_dep"
   ]
  },
  {
   "cell_type": "code",
   "execution_count": 39,
   "id": "9ef08577-323c-49d1-a807-9932183c9bd1",
   "metadata": {},
   "outputs": [
    {
     "data": {
      "image/png": "[encoded data removed]",
      "text/plain": [
       "<Figure size 432x288 with 1 Axes>"
      ]
     },
     "metadata": {
      "needs_background": "light"
     },
     "output_type": "display_data"
    }
   ],
   "source": [
    "prof_by_dep_bar = prof_by_dep.plot.bar()"
   ]
  },
  {
   "cell_type": "markdown",
   "id": "d9af885d-c86b-481c-b744-b55f43e83d9b",
   "metadata": {},
   "source": [
    "### Most purchased From Married Parents are Produce Dairy Eggs. "
   ]
  },
  {
   "cell_type": "markdown",
   "id": "3dbfedec-1e82-448c-9ab7-96aede0f7661",
   "metadata": {},
   "source": [
    "# 8.Export"
   ]
  },
  {
   "cell_type": "code",
   "execution_count": null,
   "id": "d6b9d961-2d03-431e-8ede-c8d0e0027f9f",
   "metadata": {},
   "outputs": [],
   "source": [
    "# Exporting the Images\n",
    "region_spending_bar.figure.savefig(os.path.join(path, 'Analysis', 'Visualizations', 'regional_spending_bar.png'))\n",
    "# Export the new DataFrame\n",
    "df_active_customers.to_pickle(os.path.join(path, 'Data', 'Prepared Data', 'active_users_sample.pkl'))\n",
    "# exporting the visualiation\n",
    "profile_dist_bar.figure.savefig(os.path.join(path, 'Analysis', 'Visualizations', 'profile_distibution_bar.png'))\n",
    "# exporting the profile by region bar graph\n",
    "prof_by_reg_bar.figure.savefig(os.path.join(path, 'Analysis', 'Visualizations', 'profiles_by_region_bar.png'))\n",
    "# exporting the profiles by department bar graph\n",
    "prof_by_dep_bar.figure.savefig(os.path.join(path, 'Analysis', 'Visualizations', 'profiles_by_department.png'))\n",
    "df.to_pickle(os.path.join(path, 'Data', 'Prepared Data', 'orders_products_customers_merged_final.pkl'))"
   ]
  },
  {
   "cell_type": "code",
   "execution_count": null,
   "id": "5ecb13bc-ca2e-45d7-a37f-492efe1b5e38",
   "metadata": {},
   "outputs": [],
   "source": []
  }
 ],
 "metadata": {
  "kernelspec": {
   "display_name": "Python 3 (ipykernel)",
   "language": "python",
   "name": "python3"
  },
  "language_info": {
   "codemirror_mode": {
    "name": "ipython",
    "version": 3
   },
   "file_extension": ".py",
   "mimetype": "text/x-python",
   "name": "python",
   "nbconvert_exporter": "python",
   "pygments_lexer": "ipython3",
   "version": "3.9.12"
  }
 },
 "nbformat": 4,
 "nbformat_minor": 5
}
