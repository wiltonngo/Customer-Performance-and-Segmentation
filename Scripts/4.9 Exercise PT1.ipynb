{
 "cells": [
  {
   "cell_type": "code",
   "execution_count": 2,
   "id": "4cef489b-e6e7-4b69-a72c-b0e615fd9281",
   "metadata": {},
   "outputs": [],
   "source": [
    "# import libraries\n",
    "\n",
    "import pandas as pd\n",
    "import numpy as np\n",
    "import os\n",
    "import matplotlib.pyplot as plt\n",
    "import seaborn as sns\n",
    "import scipy"
   ]
  },
  {
   "cell_type": "code",
   "execution_count": 3,
   "id": "71710410-0467-4472-8238-3b82a866ffdb",
   "metadata": {},
   "outputs": [],
   "source": [
    "# Create a Path\n",
    "path = r'/Users/wiltonngo/InstaCart Basket Analysis'"
   ]
  },
  {
   "cell_type": "code",
   "execution_count": 4,
   "id": "cac9e02f-9087-442b-8d96-306cd892a763",
   "metadata": {},
   "outputs": [],
   "source": [
    "# import orders_products_combined\n",
    "df= pd.read_csv(os.path.join(path, 'Data', 'Original Data', 'customers 2.csv'))"
   ]
  },
  {
   "cell_type": "code",
   "execution_count": 5,
   "id": "258c1494-555c-43d1-88bd-52dfb452f355",
   "metadata": {},
   "outputs": [],
   "source": [
    "# import orders_products_combined\n",
    "ords_prods_merged = pd.read_pickle(os.path.join(path, 'Data', 'Prepared Data', 'ord_prods_merged.pkl'))"
   ]
  },
  {
   "cell_type": "code",
   "execution_count": 6,
   "id": "5ba68218-65ef-402e-92ba-b578c518811d",
   "metadata": {},
   "outputs": [
    {
     "data": {
      "text/html": [
       "<div>\n",
       "<style scoped>\n",
       "    .dataframe tbody tr th:only-of-type {\n",
       "        vertical-align: middle;\n",
       "    }\n",
       "\n",
       "    .dataframe tbody tr th {\n",
       "        vertical-align: top;\n",
       "    }\n",
       "\n",
       "    .dataframe thead th {\n",
       "        text-align: right;\n",
       "    }\n",
       "</style>\n",
       "<table border=\"1\" class=\"dataframe\">\n",
       "  <thead>\n",
       "    <tr style=\"text-align: right;\">\n",
       "      <th></th>\n",
       "      <th>user_id</th>\n",
       "      <th>First Name</th>\n",
       "      <th>Surnam</th>\n",
       "      <th>Gender</th>\n",
       "      <th>STATE</th>\n",
       "      <th>Age</th>\n",
       "      <th>date_joined</th>\n",
       "      <th>n_dependants</th>\n",
       "      <th>fam_status</th>\n",
       "      <th>income</th>\n",
       "    </tr>\n",
       "  </thead>\n",
       "  <tbody>\n",
       "    <tr>\n",
       "      <th>0</th>\n",
       "      <td>26711</td>\n",
       "      <td>Deborah</td>\n",
       "      <td>Esquivel</td>\n",
       "      <td>Female</td>\n",
       "      <td>Missouri</td>\n",
       "      <td>48</td>\n",
       "      <td>1/1/2017</td>\n",
       "      <td>3</td>\n",
       "      <td>married</td>\n",
       "      <td>165665</td>\n",
       "    </tr>\n",
       "    <tr>\n",
       "      <th>1</th>\n",
       "      <td>33890</td>\n",
       "      <td>Patricia</td>\n",
       "      <td>Hart</td>\n",
       "      <td>Female</td>\n",
       "      <td>New Mexico</td>\n",
       "      <td>36</td>\n",
       "      <td>1/1/2017</td>\n",
       "      <td>0</td>\n",
       "      <td>single</td>\n",
       "      <td>59285</td>\n",
       "    </tr>\n",
       "    <tr>\n",
       "      <th>2</th>\n",
       "      <td>65803</td>\n",
       "      <td>Kenneth</td>\n",
       "      <td>Farley</td>\n",
       "      <td>Male</td>\n",
       "      <td>Idaho</td>\n",
       "      <td>35</td>\n",
       "      <td>1/1/2017</td>\n",
       "      <td>2</td>\n",
       "      <td>married</td>\n",
       "      <td>99568</td>\n",
       "    </tr>\n",
       "    <tr>\n",
       "      <th>3</th>\n",
       "      <td>125935</td>\n",
       "      <td>Michelle</td>\n",
       "      <td>Hicks</td>\n",
       "      <td>Female</td>\n",
       "      <td>Iowa</td>\n",
       "      <td>40</td>\n",
       "      <td>1/1/2017</td>\n",
       "      <td>0</td>\n",
       "      <td>single</td>\n",
       "      <td>42049</td>\n",
       "    </tr>\n",
       "    <tr>\n",
       "      <th>4</th>\n",
       "      <td>130797</td>\n",
       "      <td>Ann</td>\n",
       "      <td>Gilmore</td>\n",
       "      <td>Female</td>\n",
       "      <td>Maryland</td>\n",
       "      <td>26</td>\n",
       "      <td>1/1/2017</td>\n",
       "      <td>1</td>\n",
       "      <td>married</td>\n",
       "      <td>40374</td>\n",
       "    </tr>\n",
       "  </tbody>\n",
       "</table>\n",
       "</div>"
      ],
      "text/plain": [
       "   user_id First Name    Surnam  Gender       STATE  Age date_joined  \\\n",
       "0    26711    Deborah  Esquivel  Female    Missouri   48    1/1/2017   \n",
       "1    33890   Patricia      Hart  Female  New Mexico   36    1/1/2017   \n",
       "2    65803    Kenneth    Farley    Male       Idaho   35    1/1/2017   \n",
       "3   125935   Michelle     Hicks  Female        Iowa   40    1/1/2017   \n",
       "4   130797        Ann   Gilmore  Female    Maryland   26    1/1/2017   \n",
       "\n",
       "   n_dependants fam_status  income  \n",
       "0             3    married  165665  \n",
       "1             0     single   59285  \n",
       "2             2    married   99568  \n",
       "3             0     single   42049  \n",
       "4             1    married   40374  "
      ]
     },
     "execution_count": 6,
     "metadata": {},
     "output_type": "execute_result"
    }
   ],
   "source": [
    "df.head()"
   ]
  },
  {
   "cell_type": "markdown",
   "id": "0066170f-129a-4b04-87b0-2523c53cd21f",
   "metadata": {},
   "source": [
    "# Data Wrangling"
   ]
  },
  {
   "cell_type": "code",
   "execution_count": 7,
   "id": "2cab474b-e484-4783-b40f-3b9c83649ebd",
   "metadata": {},
   "outputs": [],
   "source": [
    "# renaming columns\n",
    "\n",
    "df.rename(columns = {'First Name' : 'first_name', 'Surnam' : 'last_name', 'Gender' : 'gender', 'STATE' : 'state', 'Age' : 'age', 'n_dependants' : 'dependants_number', 'fam_status' : 'family_status'}, inplace = True)"
   ]
  },
  {
   "cell_type": "markdown",
   "id": "c2052572-8fc6-4b15-981f-d5b9905644f6",
   "metadata": {},
   "source": [
    "### I'm not droping any columns because I don't know what I need. What columns are useful. "
   ]
  },
  {
   "cell_type": "markdown",
   "id": "3c402588-88c2-4fcb-ab34-2c9d04c1a74e",
   "metadata": {},
   "source": [
    "# Data Quality and Consistenct Checks"
   ]
  },
  {
   "cell_type": "code",
   "execution_count": 8,
   "id": "5449e533-0c26-4021-a1d2-9b263706d8ff",
   "metadata": {},
   "outputs": [
    {
     "data": {
      "text/plain": [
       "(206209, 10)"
      ]
     },
     "execution_count": 8,
     "metadata": {},
     "output_type": "execute_result"
    }
   ],
   "source": [
    "df.shape"
   ]
  },
  {
   "cell_type": "code",
   "execution_count": 9,
   "id": "67493fff-7f9c-46c9-a557-72927b876f90",
   "metadata": {},
   "outputs": [
    {
     "name": "stdout",
     "output_type": "stream",
     "text": [
      "<class 'pandas.core.frame.DataFrame'>\n",
      "RangeIndex: 206209 entries, 0 to 206208\n",
      "Data columns (total 10 columns):\n",
      " #   Column             Non-Null Count   Dtype \n",
      "---  ------             --------------   ----- \n",
      " 0   user_id            206209 non-null  int64 \n",
      " 1   first_name         194950 non-null  object\n",
      " 2   last_name          206209 non-null  object\n",
      " 3   gender             206209 non-null  object\n",
      " 4   state              206209 non-null  object\n",
      " 5   age                206209 non-null  int64 \n",
      " 6   date_joined        206209 non-null  object\n",
      " 7   dependants_number  206209 non-null  int64 \n",
      " 8   family_status      206209 non-null  object\n",
      " 9   income             206209 non-null  int64 \n",
      "dtypes: int64(4), object(6)\n",
      "memory usage: 15.7+ MB\n"
     ]
    }
   ],
   "source": [
    "df.info()"
   ]
  },
  {
   "cell_type": "markdown",
   "id": "4fab19a2-0db9-436e-85d1-b860b764edb3",
   "metadata": {},
   "source": [
    "### There are missing first names with only 194950 entries. There should be 206209 entries"
   ]
  },
  {
   "cell_type": "code",
   "execution_count": 10,
   "id": "17255a3b-dd0f-4b06-9148-fe8ad921c647",
   "metadata": {},
   "outputs": [
    {
     "data": {
      "text/html": [
       "<div>\n",
       "<style scoped>\n",
       "    .dataframe tbody tr th:only-of-type {\n",
       "        vertical-align: middle;\n",
       "    }\n",
       "\n",
       "    .dataframe tbody tr th {\n",
       "        vertical-align: top;\n",
       "    }\n",
       "\n",
       "    .dataframe thead th {\n",
       "        text-align: right;\n",
       "    }\n",
       "</style>\n",
       "<table border=\"1\" class=\"dataframe\">\n",
       "  <thead>\n",
       "    <tr style=\"text-align: right;\">\n",
       "      <th></th>\n",
       "      <th>user_id</th>\n",
       "      <th>age</th>\n",
       "      <th>dependants_number</th>\n",
       "      <th>income</th>\n",
       "    </tr>\n",
       "  </thead>\n",
       "  <tbody>\n",
       "    <tr>\n",
       "      <th>count</th>\n",
       "      <td>206209.000000</td>\n",
       "      <td>206209.000000</td>\n",
       "      <td>206209.000000</td>\n",
       "      <td>206209.000000</td>\n",
       "    </tr>\n",
       "    <tr>\n",
       "      <th>mean</th>\n",
       "      <td>103105.000000</td>\n",
       "      <td>49.501646</td>\n",
       "      <td>1.499823</td>\n",
       "      <td>94632.852548</td>\n",
       "    </tr>\n",
       "    <tr>\n",
       "      <th>std</th>\n",
       "      <td>59527.555167</td>\n",
       "      <td>18.480962</td>\n",
       "      <td>1.118433</td>\n",
       "      <td>42473.786988</td>\n",
       "    </tr>\n",
       "    <tr>\n",
       "      <th>min</th>\n",
       "      <td>1.000000</td>\n",
       "      <td>18.000000</td>\n",
       "      <td>0.000000</td>\n",
       "      <td>25903.000000</td>\n",
       "    </tr>\n",
       "    <tr>\n",
       "      <th>25%</th>\n",
       "      <td>51553.000000</td>\n",
       "      <td>33.000000</td>\n",
       "      <td>0.000000</td>\n",
       "      <td>59874.000000</td>\n",
       "    </tr>\n",
       "    <tr>\n",
       "      <th>50%</th>\n",
       "      <td>103105.000000</td>\n",
       "      <td>49.000000</td>\n",
       "      <td>1.000000</td>\n",
       "      <td>93547.000000</td>\n",
       "    </tr>\n",
       "    <tr>\n",
       "      <th>75%</th>\n",
       "      <td>154657.000000</td>\n",
       "      <td>66.000000</td>\n",
       "      <td>3.000000</td>\n",
       "      <td>124244.000000</td>\n",
       "    </tr>\n",
       "    <tr>\n",
       "      <th>max</th>\n",
       "      <td>206209.000000</td>\n",
       "      <td>81.000000</td>\n",
       "      <td>3.000000</td>\n",
       "      <td>593901.000000</td>\n",
       "    </tr>\n",
       "  </tbody>\n",
       "</table>\n",
       "</div>"
      ],
      "text/plain": [
       "             user_id            age  dependants_number         income\n",
       "count  206209.000000  206209.000000      206209.000000  206209.000000\n",
       "mean   103105.000000      49.501646           1.499823   94632.852548\n",
       "std     59527.555167      18.480962           1.118433   42473.786988\n",
       "min         1.000000      18.000000           0.000000   25903.000000\n",
       "25%     51553.000000      33.000000           0.000000   59874.000000\n",
       "50%    103105.000000      49.000000           1.000000   93547.000000\n",
       "75%    154657.000000      66.000000           3.000000  124244.000000\n",
       "max    206209.000000      81.000000           3.000000  593901.000000"
      ]
     },
     "execution_count": 10,
     "metadata": {},
     "output_type": "execute_result"
    }
   ],
   "source": [
    "df.describe()"
   ]
  },
  {
   "cell_type": "code",
   "execution_count": 11,
   "id": "31d2ce22-ff40-4231-8d00-b08975ada41a",
   "metadata": {},
   "outputs": [
    {
     "name": "stdout",
     "output_type": "stream",
     "text": [
      "first_name\n",
      "11259\n"
     ]
    }
   ],
   "source": [
    "# Check for Mix Types\n",
    "for col in df.columns.tolist():\n",
    "  weird = (df[[col]].applymap(type) != df[[col]].iloc[0].apply(type)).any(axis = 1)\n",
    "  if len (df[weird]) > 0:\n",
    "    print (col)\n",
    "    print (len(df[weird]))"
   ]
  },
  {
   "cell_type": "markdown",
   "id": "511cd145-aaa7-4523-8641-361063aeaebc",
   "metadata": {},
   "source": [
    "# Missing Values"
   ]
  },
  {
   "cell_type": "code",
   "execution_count": 12,
   "id": "07211b5f-3b69-4bbb-a215-e2ef4648e68c",
   "metadata": {},
   "outputs": [
    {
     "data": {
      "text/plain": [
       "user_id                  0\n",
       "first_name           11259\n",
       "last_name                0\n",
       "gender                   0\n",
       "state                    0\n",
       "age                      0\n",
       "date_joined              0\n",
       "dependants_number        0\n",
       "family_status            0\n",
       "income                   0\n",
       "dtype: int64"
      ]
     },
     "execution_count": 12,
     "metadata": {},
     "output_type": "execute_result"
    }
   ],
   "source": [
    "df.isnull().sum()"
   ]
  },
  {
   "cell_type": "code",
   "execution_count": 13,
   "id": "46d43093-642f-4fe1-83b0-67777718bea1",
   "metadata": {},
   "outputs": [
    {
     "data": {
      "text/html": [
       "<div>\n",
       "<style scoped>\n",
       "    .dataframe tbody tr th:only-of-type {\n",
       "        vertical-align: middle;\n",
       "    }\n",
       "\n",
       "    .dataframe tbody tr th {\n",
       "        vertical-align: top;\n",
       "    }\n",
       "\n",
       "    .dataframe thead th {\n",
       "        text-align: right;\n",
       "    }\n",
       "</style>\n",
       "<table border=\"1\" class=\"dataframe\">\n",
       "  <thead>\n",
       "    <tr style=\"text-align: right;\">\n",
       "      <th></th>\n",
       "      <th>user_id</th>\n",
       "      <th>first_name</th>\n",
       "      <th>last_name</th>\n",
       "      <th>gender</th>\n",
       "      <th>state</th>\n",
       "      <th>age</th>\n",
       "      <th>date_joined</th>\n",
       "      <th>dependants_number</th>\n",
       "      <th>family_status</th>\n",
       "      <th>income</th>\n",
       "    </tr>\n",
       "  </thead>\n",
       "  <tbody>\n",
       "    <tr>\n",
       "      <th>53</th>\n",
       "      <td>76659</td>\n",
       "      <td>NaN</td>\n",
       "      <td>Gilbert</td>\n",
       "      <td>Male</td>\n",
       "      <td>Colorado</td>\n",
       "      <td>26</td>\n",
       "      <td>1/1/2017</td>\n",
       "      <td>2</td>\n",
       "      <td>married</td>\n",
       "      <td>41709</td>\n",
       "    </tr>\n",
       "    <tr>\n",
       "      <th>73</th>\n",
       "      <td>13738</td>\n",
       "      <td>NaN</td>\n",
       "      <td>Frost</td>\n",
       "      <td>Female</td>\n",
       "      <td>Louisiana</td>\n",
       "      <td>39</td>\n",
       "      <td>1/1/2017</td>\n",
       "      <td>0</td>\n",
       "      <td>single</td>\n",
       "      <td>82518</td>\n",
       "    </tr>\n",
       "    <tr>\n",
       "      <th>82</th>\n",
       "      <td>89996</td>\n",
       "      <td>NaN</td>\n",
       "      <td>Dawson</td>\n",
       "      <td>Female</td>\n",
       "      <td>Oregon</td>\n",
       "      <td>52</td>\n",
       "      <td>1/1/2017</td>\n",
       "      <td>3</td>\n",
       "      <td>married</td>\n",
       "      <td>117099</td>\n",
       "    </tr>\n",
       "    <tr>\n",
       "      <th>99</th>\n",
       "      <td>96166</td>\n",
       "      <td>NaN</td>\n",
       "      <td>Oconnor</td>\n",
       "      <td>Male</td>\n",
       "      <td>Oklahoma</td>\n",
       "      <td>51</td>\n",
       "      <td>1/1/2017</td>\n",
       "      <td>1</td>\n",
       "      <td>married</td>\n",
       "      <td>155673</td>\n",
       "    </tr>\n",
       "    <tr>\n",
       "      <th>105</th>\n",
       "      <td>29778</td>\n",
       "      <td>NaN</td>\n",
       "      <td>Dawson</td>\n",
       "      <td>Female</td>\n",
       "      <td>Utah</td>\n",
       "      <td>63</td>\n",
       "      <td>1/1/2017</td>\n",
       "      <td>3</td>\n",
       "      <td>married</td>\n",
       "      <td>151819</td>\n",
       "    </tr>\n",
       "    <tr>\n",
       "      <th>...</th>\n",
       "      <td>...</td>\n",
       "      <td>...</td>\n",
       "      <td>...</td>\n",
       "      <td>...</td>\n",
       "      <td>...</td>\n",
       "      <td>...</td>\n",
       "      <td>...</td>\n",
       "      <td>...</td>\n",
       "      <td>...</td>\n",
       "      <td>...</td>\n",
       "    </tr>\n",
       "    <tr>\n",
       "      <th>206038</th>\n",
       "      <td>121317</td>\n",
       "      <td>NaN</td>\n",
       "      <td>Melton</td>\n",
       "      <td>Male</td>\n",
       "      <td>Pennsylvania</td>\n",
       "      <td>28</td>\n",
       "      <td>3/31/2020</td>\n",
       "      <td>3</td>\n",
       "      <td>married</td>\n",
       "      <td>87783</td>\n",
       "    </tr>\n",
       "    <tr>\n",
       "      <th>206044</th>\n",
       "      <td>200799</td>\n",
       "      <td>NaN</td>\n",
       "      <td>Copeland</td>\n",
       "      <td>Female</td>\n",
       "      <td>Hawaii</td>\n",
       "      <td>52</td>\n",
       "      <td>4/1/2020</td>\n",
       "      <td>2</td>\n",
       "      <td>married</td>\n",
       "      <td>108488</td>\n",
       "    </tr>\n",
       "    <tr>\n",
       "      <th>206090</th>\n",
       "      <td>167394</td>\n",
       "      <td>NaN</td>\n",
       "      <td>Frost</td>\n",
       "      <td>Female</td>\n",
       "      <td>Hawaii</td>\n",
       "      <td>61</td>\n",
       "      <td>4/1/2020</td>\n",
       "      <td>1</td>\n",
       "      <td>married</td>\n",
       "      <td>45275</td>\n",
       "    </tr>\n",
       "    <tr>\n",
       "      <th>206162</th>\n",
       "      <td>187532</td>\n",
       "      <td>NaN</td>\n",
       "      <td>Floyd</td>\n",
       "      <td>Female</td>\n",
       "      <td>California</td>\n",
       "      <td>39</td>\n",
       "      <td>4/1/2020</td>\n",
       "      <td>0</td>\n",
       "      <td>single</td>\n",
       "      <td>56325</td>\n",
       "    </tr>\n",
       "    <tr>\n",
       "      <th>206171</th>\n",
       "      <td>116898</td>\n",
       "      <td>NaN</td>\n",
       "      <td>Delgado</td>\n",
       "      <td>Female</td>\n",
       "      <td>Colorado</td>\n",
       "      <td>23</td>\n",
       "      <td>4/1/2020</td>\n",
       "      <td>2</td>\n",
       "      <td>married</td>\n",
       "      <td>59222</td>\n",
       "    </tr>\n",
       "  </tbody>\n",
       "</table>\n",
       "<p>11259 rows × 10 columns</p>\n",
       "</div>"
      ],
      "text/plain": [
       "        user_id first_name last_name  gender         state  age date_joined  \\\n",
       "53        76659        NaN   Gilbert    Male      Colorado   26    1/1/2017   \n",
       "73        13738        NaN     Frost  Female     Louisiana   39    1/1/2017   \n",
       "82        89996        NaN    Dawson  Female        Oregon   52    1/1/2017   \n",
       "99        96166        NaN   Oconnor    Male      Oklahoma   51    1/1/2017   \n",
       "105       29778        NaN    Dawson  Female          Utah   63    1/1/2017   \n",
       "...         ...        ...       ...     ...           ...  ...         ...   \n",
       "206038   121317        NaN    Melton    Male  Pennsylvania   28   3/31/2020   \n",
       "206044   200799        NaN  Copeland  Female        Hawaii   52    4/1/2020   \n",
       "206090   167394        NaN     Frost  Female        Hawaii   61    4/1/2020   \n",
       "206162   187532        NaN     Floyd  Female    California   39    4/1/2020   \n",
       "206171   116898        NaN   Delgado  Female      Colorado   23    4/1/2020   \n",
       "\n",
       "        dependants_number family_status  income  \n",
       "53                      2       married   41709  \n",
       "73                      0        single   82518  \n",
       "82                      3       married  117099  \n",
       "99                      1       married  155673  \n",
       "105                     3       married  151819  \n",
       "...                   ...           ...     ...  \n",
       "206038                  3       married   87783  \n",
       "206044                  2       married  108488  \n",
       "206090                  1       married   45275  \n",
       "206162                  0        single   56325  \n",
       "206171                  2       married   59222  \n",
       "\n",
       "[11259 rows x 10 columns]"
      ]
     },
     "execution_count": 13,
     "metadata": {},
     "output_type": "execute_result"
    }
   ],
   "source": [
    "# View Missing Values\n",
    "df[df['first_name'].isnull() == True]"
   ]
  },
  {
   "cell_type": "code",
   "execution_count": 14,
   "id": "b136bdd1-3896-4ad2-bc70-dd1276d8a3a0",
   "metadata": {},
   "outputs": [
    {
     "data": {
      "text/html": [
       "<div>\n",
       "<style scoped>\n",
       "    .dataframe tbody tr th:only-of-type {\n",
       "        vertical-align: middle;\n",
       "    }\n",
       "\n",
       "    .dataframe tbody tr th {\n",
       "        vertical-align: top;\n",
       "    }\n",
       "\n",
       "    .dataframe thead th {\n",
       "        text-align: right;\n",
       "    }\n",
       "</style>\n",
       "<table border=\"1\" class=\"dataframe\">\n",
       "  <thead>\n",
       "    <tr style=\"text-align: right;\">\n",
       "      <th></th>\n",
       "      <th>user_id</th>\n",
       "      <th>first_name</th>\n",
       "      <th>last_name</th>\n",
       "      <th>gender</th>\n",
       "      <th>state</th>\n",
       "      <th>age</th>\n",
       "      <th>date_joined</th>\n",
       "      <th>dependants_number</th>\n",
       "      <th>family_status</th>\n",
       "      <th>income</th>\n",
       "    </tr>\n",
       "  </thead>\n",
       "  <tbody>\n",
       "  </tbody>\n",
       "</table>\n",
       "</div>"
      ],
      "text/plain": [
       "Empty DataFrame\n",
       "Columns: [user_id, first_name, last_name, gender, state, age, date_joined, dependants_number, family_status, income]\n",
       "Index: []"
      ]
     },
     "execution_count": 14,
     "metadata": {},
     "output_type": "execute_result"
    }
   ],
   "source": [
    "# Check to see Any Duplicates\n",
    "df[df.duplicated()]"
   ]
  },
  {
   "cell_type": "code",
   "execution_count": 15,
   "id": "b36451b8-e39d-48f7-9743-ee82c635e716",
   "metadata": {},
   "outputs": [],
   "source": [
    "#Drop Columns that isn't neceassry for InstaCart Data\n",
    "df_customers = df.drop(columns = ['first_name', 'last_name'])"
   ]
  },
  {
   "cell_type": "code",
   "execution_count": 16,
   "id": "593ae57c-4ffd-4b39-a3a1-2b8f95f55964",
   "metadata": {},
   "outputs": [
    {
     "name": "stdout",
     "output_type": "stream",
     "text": [
      "No mixed-type data found in user_id\n",
      "No mixed-type data found in gender\n",
      "No mixed-type data found in state\n",
      "No mixed-type data found in age\n",
      "No mixed-type data found in date_joined\n",
      "No mixed-type data found in dependants_number\n",
      "No mixed-type data found in family_status\n",
      "No mixed-type data found in income\n"
     ]
    }
   ],
   "source": [
    "for col in df_customers.columns.tolist():\n",
    "  weird = (df_customers[[col]].applymap(type) != df_customers[[col]].iloc[0].apply(type)).any(axis = 1)\n",
    "  if len (df_customers[weird]) > 0:\n",
    "    print (col)\n",
    "  else:\n",
    "    print ('No mixed-type data found in', col)"
   ]
  },
  {
   "cell_type": "code",
   "execution_count": 17,
   "id": "e58fcc24-a2dc-42e9-9ad9-3c0086198e0f",
   "metadata": {},
   "outputs": [
    {
     "data": {
      "text/plain": [
       "user_id              0\n",
       "gender               0\n",
       "state                0\n",
       "age                  0\n",
       "date_joined          0\n",
       "dependants_number    0\n",
       "family_status        0\n",
       "income               0\n",
       "dtype: int64"
      ]
     },
     "execution_count": 17,
     "metadata": {},
     "output_type": "execute_result"
    }
   ],
   "source": [
    "df_customers.isnull().sum()"
   ]
  },
  {
   "cell_type": "markdown",
   "id": "95c12f8e-7906-4cf4-8c15-0ebab9bcb9ff",
   "metadata": {},
   "source": [
    "# Combine Data"
   ]
  },
  {
   "cell_type": "code",
   "execution_count": 18,
   "id": "10cb7b37-cf4d-475f-8e0f-a473204f6c0c",
   "metadata": {},
   "outputs": [
    {
     "name": "stdout",
     "output_type": "stream",
     "text": [
      "<class 'pandas.core.frame.DataFrame'>\n",
      "Int64Index: 32404859 entries, 0 to 32404858\n",
      "Data columns (total 23 columns):\n",
      " #   Column                 Dtype   \n",
      "---  ------                 -----   \n",
      " 0   order_id               int64   \n",
      " 1   user_id                int64   \n",
      " 2   order_number           int64   \n",
      " 3   order_day_of_week      int64   \n",
      " 4   order_hour_of_day      int64   \n",
      " 5   days_since_last_order  float64 \n",
      " 6   product_id             int64   \n",
      " 7   add_to_cart_order      int64   \n",
      " 8   reordered              int64   \n",
      " 9   product_name           object  \n",
      " 10  aisle_id               int64   \n",
      " 11  department_id          int64   \n",
      " 12  prices                 float64 \n",
      " 13  _merge                 category\n",
      " 14  price_range_loc        object  \n",
      " 15  Busiest Day            object  \n",
      " 16  Busiest Period of Day  object  \n",
      " 17  max_order              int64   \n",
      " 18  loyatly_flags          object  \n",
      " 19  avg_price              float64 \n",
      " 20  spending_flag          object  \n",
      " 21  Meidan_Freq            float64 \n",
      " 22  order_freq_flag        object  \n",
      "dtypes: category(1), float64(4), int64(11), object(7)\n",
      "memory usage: 5.6+ GB\n"
     ]
    }
   ],
   "source": [
    "ords_prods_merged.info()"
   ]
  },
  {
   "cell_type": "code",
   "execution_count": 19,
   "id": "158fed71-949b-4853-84b0-ae7a9d8fa288",
   "metadata": {},
   "outputs": [
    {
     "name": "stdout",
     "output_type": "stream",
     "text": [
      "<class 'pandas.core.frame.DataFrame'>\n",
      "RangeIndex: 206209 entries, 0 to 206208\n",
      "Data columns (total 8 columns):\n",
      " #   Column             Non-Null Count   Dtype \n",
      "---  ------             --------------   ----- \n",
      " 0   user_id            206209 non-null  int64 \n",
      " 1   gender             206209 non-null  object\n",
      " 2   state              206209 non-null  object\n",
      " 3   age                206209 non-null  int64 \n",
      " 4   date_joined        206209 non-null  object\n",
      " 5   dependants_number  206209 non-null  int64 \n",
      " 6   family_status      206209 non-null  object\n",
      " 7   income             206209 non-null  int64 \n",
      "dtypes: int64(4), object(4)\n",
      "memory usage: 12.6+ MB\n"
     ]
    }
   ],
   "source": [
    "df_customers.info()"
   ]
  },
  {
   "cell_type": "code",
   "execution_count": 22,
   "id": "8acb750a-aad7-41e4-8189-4b6656b54d8d",
   "metadata": {
    "tags": []
   },
   "outputs": [],
   "source": [
    "# merging dataframes\n",
    "\n",
    "dataframe_combined = ords_prods_merged.merge(df_customers, on = 'user_id')"
   ]
  },
  {
   "cell_type": "code",
   "execution_count": 23,
   "id": "91fec294-b6f8-4dc5-b19a-52af3bfa130b",
   "metadata": {},
   "outputs": [
    {
     "name": "stdout",
     "output_type": "stream",
     "text": [
      "<class 'pandas.core.frame.DataFrame'>\n",
      "Int64Index: 32404859 entries, 0 to 32404858\n",
      "Data columns (total 30 columns):\n",
      " #   Column                 Dtype   \n",
      "---  ------                 -----   \n",
      " 0   order_id               int64   \n",
      " 1   user_id                int64   \n",
      " 2   order_number           int64   \n",
      " 3   order_day_of_week      int64   \n",
      " 4   order_hour_of_day      int64   \n",
      " 5   days_since_last_order  float64 \n",
      " 6   product_id             int64   \n",
      " 7   add_to_cart_order      int64   \n",
      " 8   reordered              int64   \n",
      " 9   product_name           object  \n",
      " 10  aisle_id               int64   \n",
      " 11  department_id          int64   \n",
      " 12  prices                 float64 \n",
      " 13  _merge                 category\n",
      " 14  price_range_loc        object  \n",
      " 15  Busiest Day            object  \n",
      " 16  Busiest Period of Day  object  \n",
      " 17  max_order              int64   \n",
      " 18  loyatly_flags          object  \n",
      " 19  avg_price              float64 \n",
      " 20  spending_flag          object  \n",
      " 21  Meidan_Freq            float64 \n",
      " 22  order_freq_flag        object  \n",
      " 23  gender                 object  \n",
      " 24  state                  object  \n",
      " 25  age                    int64   \n",
      " 26  date_joined            object  \n",
      " 27  dependants_number      int64   \n",
      " 28  family_status          object  \n",
      " 29  income                 int64   \n",
      "dtypes: category(1), float64(4), int64(14), object(11)\n",
      "memory usage: 7.3+ GB\n"
     ]
    }
   ],
   "source": [
    "dataframe_combined.info()"
   ]
  },
  {
   "cell_type": "code",
   "execution_count": null,
   "id": "0b686860-3920-434f-b194-4e156b5c27f3",
   "metadata": {},
   "outputs": [],
   "source": [
    "dataframe_combined"
   ]
  },
  {
   "cell_type": "code",
   "execution_count": 25,
   "id": "2b88d50a-1cfd-49e4-99e9-f50addeac472",
   "metadata": {},
   "outputs": [],
   "source": [
    "# Exporting DataFrame\n",
    "dataframe_combined.to_pickle(os.path.join(path,'Data','Prepared Data', 'dataframe_combined.pkl'))"
   ]
  },
  {
   "cell_type": "code",
   "execution_count": 1,
   "id": "89de8bae-35a2-4efd-a1d5-f12679dfc290",
   "metadata": {},
   "outputs": [
    {
     "ename": "NameError",
     "evalue": "name 'dataframe_combined' is not defined",
     "output_type": "error",
     "traceback": [
      "\u001b[0;31m---------------------------------------------------------------------------\u001b[0m",
      "\u001b[0;31mNameError\u001b[0m                                 Traceback (most recent call last)",
      "Input \u001b[0;32mIn [1]\u001b[0m, in \u001b[0;36m<cell line: 1>\u001b[0;34m()\u001b[0m\n\u001b[0;32m----> 1\u001b[0m \u001b[43mdataframe_combined\u001b[49m[\u001b[38;5;124m'\u001b[39m\u001b[38;5;124mdepartment_id\u001b[39m\u001b[38;5;124m'\u001b[39m]\u001b[38;5;241m.\u001b[39mvalue_counts()\n",
      "\u001b[0;31mNameError\u001b[0m: name 'dataframe_combined' is not defined"
     ]
    }
   ],
   "source": [
    "dataframe_combined['department_id'].value_counts()"
   ]
  },
  {
   "cell_type": "code",
   "execution_count": null,
   "id": "f551d7ed-156f-4d83-ba03-bb430f1ef6be",
   "metadata": {},
   "outputs": [],
   "source": []
  }
 ],
 "metadata": {
  "kernelspec": {
   "display_name": "Python 3 (ipykernel)",
   "language": "python",
   "name": "python3"
  },
  "language_info": {
   "codemirror_mode": {
    "name": "ipython",
    "version": 3
   },
   "file_extension": ".py",
   "mimetype": "text/x-python",
   "name": "python",
   "nbconvert_exporter": "python",
   "pygments_lexer": "ipython3",
   "version": "3.9.12"
  }
 },
 "nbformat": 4,
 "nbformat_minor": 5
}
